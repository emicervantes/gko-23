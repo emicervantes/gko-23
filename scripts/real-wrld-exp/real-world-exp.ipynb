{
 "cells": [
  {
   "cell_type": "markdown",
   "metadata": {
    "cell_id": "539901cc5c524341baa697f945ce90c8",
    "deepnote_cell_type": "text-cell-h2",
    "formattedRanges": []
   },
   "source": [
    "## Run First"
   ]
  },
  {
   "cell_type": "code",
   "execution_count": 1,
   "metadata": {
    "cell_id": "6a4879e322e44608ac5670d9c20267cb",
    "deepnote_app_is_code_hidden": true,
    "deepnote_cell_type": "code",
    "deepnote_to_be_reexecuted": false,
    "execution_millis": 3337,
    "execution_start": 1688591993740,
    "is_code_hidden": false,
    "source_hash": null
   },
   "outputs": [],
   "source": [
    "import scipy\n",
    "import numpy as np\n",
    "from numpy import linalg as LA\n",
    "from time import process_time\n",
    "import matplotlib.pyplot as plt\n",
    "from matplotlib.lines import Line2D\n",
    "import random\n",
    "import math\n",
    "from scipy import sparse\n",
    "from scipy.sparse import random\n",
    "from scipy import stats\n",
    "from numpy.random import default_rng\n",
    "from sklearn.preprocessing import normalize"
   ]
  },
  {
   "cell_type": "code",
   "execution_count": 2,
   "metadata": {
    "cell_id": "3d4e51e641ae4b6e96667ef441a972e7",
    "deepnote_app_is_code_hidden": true,
    "deepnote_cell_type": "code",
    "deepnote_to_be_reexecuted": false,
    "execution_millis": 10,
    "execution_start": 1688591997094,
    "is_code_hidden": false,
    "source_hash": null
   },
   "outputs": [],
   "source": [
    "# importing algorithm functions\n",
    "import sys\n",
    "sys.path.insert(1, '/Users/jennytran/Downloads')\n",
    "from gk import *\n",
    "from mwrko import *\n",
    "from gko import *"
   ]
  },
  {
   "cell_type": "code",
   "execution_count": 3,
   "metadata": {
    "cell_id": "3fc07805de564073afa5d4b0bb3623bf",
    "deepnote_cell_type": "code",
    "deepnote_to_be_reexecuted": false,
    "execution_millis": 126,
    "execution_start": 1688591997142,
    "source_hash": null
   },
   "outputs": [],
   "source": [
    "from scipy import io\n",
    "divorce = scipy.io.loadmat('/Users/jennytran/Downloads/divorce.mat')\n",
    "photogrammetry = scipy.io.loadmat('/Users/jennytran/Downloads/photogrammetry.mat')\n",
    "Stranke94 = scipy.io.loadmat('/Users/jennytran/Downloads/Stranke94.mat')\n",
    "well1033 = scipy.io.loadmat('/Users/jennytran/Downloads/well1033.mat')"
   ]
  },
  {
   "cell_type": "markdown",
   "metadata": {
    "cell_id": "61bc8dd797644393868fc15ab74f6359",
    "deepnote_cell_type": "text-cell-h2",
    "formattedRanges": []
   },
   "source": [
    "## Real-world Experiments"
   ]
  },
  {
   "cell_type": "markdown",
   "metadata": {
    "cell_id": "625d76d4bba24734a7ca3c0d74689b21",
    "deepnote_cell_type": "text-cell-h3",
    "formattedRanges": []
   },
   "source": [
    "### Divorce"
   ]
  },
  {
   "cell_type": "code",
   "execution_count": 18,
   "metadata": {
    "cell_id": "98607631160c4db894a41efaf7f0bc58",
    "deepnote_cell_type": "code",
    "deepnote_to_be_reexecuted": false,
    "execution_millis": 26,
    "execution_start": 1688593118544,
    "source_hash": null
   },
   "outputs": [],
   "source": [
    "div = (divorce['Problem'][0][0]['A'])\n",
    "div = div.toarray()\n",
    "for n in div:\n",
    "    div = np.delete(div, np.where(np.linalg.norm(n) == 0), axis = 0)\n",
    "div = normalize(div, axis=1, norm='l2')\n",
    "x = np.random.rand(div.shape[1])\n",
    "y = div @ x"
   ]
  },
  {
   "cell_type": "code",
   "execution_count": 19,
   "metadata": {
    "cell_id": "95ac96cd30bd486bac44e812fad9abf9",
    "deepnote_cell_type": "code",
    "deepnote_to_be_reexecuted": false,
    "execution_millis": 69,
    "execution_start": 1688591997414,
    "source_hash": null
   },
   "outputs": [
    {
     "data": {
      "text/plain": [
       "(50, 9)"
      ]
     },
     "execution_count": 19,
     "metadata": {},
     "output_type": "execute_result"
    }
   ],
   "source": [
    "div.shape"
   ]
  },
  {
   "cell_type": "code",
   "execution_count": 17,
   "metadata": {
    "cell_id": "994b6dca34504eed855d29d2d4432e55",
    "deepnote_cell_type": "code",
    "deepnote_to_be_reexecuted": false,
    "execution_millis": 102,
    "execution_start": 1688593123090,
    "source_hash": null
   },
   "outputs": [],
   "source": [
    "gk_start_div = process_time()\n",
    "gk_div = gk(div,x,y, 0.5*10**-5)\n",
    "gk_stop_div = process_time()"
   ]
  },
  {
   "cell_type": "code",
   "execution_count": 24,
   "metadata": {
    "cell_id": "b966383277ba44168ffc916ed8785286",
    "deepnote_cell_type": "code",
    "deepnote_to_be_reexecuted": false,
    "execution_millis": 2962,
    "execution_start": 1688593126110,
    "source_hash": null
   },
   "outputs": [
    {
     "name": "stderr",
     "output_type": "stream",
     "text": [
      "/Users/jennytran/Downloads/gko.py:35: RuntimeWarning: invalid value encountered in true_divide\n",
      "  i_k1 = np.argmax(resid/np.sqrt(denom))\n",
      "/Users/jennytran/Downloads/gko.py:36: RuntimeWarning: invalid value encountered in true_divide\n",
      "  t = resid/np.sqrt(denom)\n",
      "/Users/jennytran/Downloads/gko.py:48: RuntimeWarning: invalid value encountered in double_scalars\n",
      "  alpha = r / h_ik\n"
     ]
    },
    {
     "ename": "KeyboardInterrupt",
     "evalue": "",
     "output_type": "error",
     "traceback": [
      "\u001b[0;31m---------------------------------------------------------------------------\u001b[0m",
      "\u001b[0;31mKeyboardInterrupt\u001b[0m                         Traceback (most recent call last)",
      "\u001b[0;32m/var/folders/x_/btjkjnjd5zqf_4d8c2f4s20h0000gn/T/ipykernel_49862/2520044639.py\u001b[0m in \u001b[0;36m<module>\u001b[0;34m\u001b[0m\n\u001b[1;32m      1\u001b[0m \u001b[0mgko_start_div\u001b[0m \u001b[0;34m=\u001b[0m \u001b[0mprocess_time\u001b[0m\u001b[0;34m(\u001b[0m\u001b[0;34m)\u001b[0m\u001b[0;34m\u001b[0m\u001b[0;34m\u001b[0m\u001b[0m\n\u001b[0;32m----> 2\u001b[0;31m \u001b[0mgko_div\u001b[0m \u001b[0;34m=\u001b[0m \u001b[0mgko\u001b[0m\u001b[0;34m(\u001b[0m\u001b[0mdiv\u001b[0m\u001b[0;34m,\u001b[0m\u001b[0mx\u001b[0m\u001b[0;34m,\u001b[0m\u001b[0my\u001b[0m\u001b[0;34m,\u001b[0m \u001b[0;36m0.5\u001b[0m\u001b[0;34m*\u001b[0m\u001b[0;36m10\u001b[0m\u001b[0;34m**\u001b[0m\u001b[0;34m-\u001b[0m\u001b[0;36m5\u001b[0m\u001b[0;34m)\u001b[0m\u001b[0;34m\u001b[0m\u001b[0;34m\u001b[0m\u001b[0m\n\u001b[0m\u001b[1;32m      3\u001b[0m \u001b[0mgko_stop_div\u001b[0m \u001b[0;34m=\u001b[0m \u001b[0mprocess_time\u001b[0m\u001b[0;34m(\u001b[0m\u001b[0;34m)\u001b[0m\u001b[0;34m\u001b[0m\u001b[0;34m\u001b[0m\u001b[0m\n",
      "\u001b[0;32m~/Downloads/gko.py\u001b[0m in \u001b[0;36mgko\u001b[0;34m(A, x, y, TOL)\u001b[0m\n\u001b[1;32m     42\u001b[0m     \u001b[0mai\u001b[0m \u001b[0;34m=\u001b[0m \u001b[0mA\u001b[0m\u001b[0;34m[\u001b[0m\u001b[0mik\u001b[0m\u001b[0;34m,\u001b[0m\u001b[0;34m:\u001b[0m\u001b[0;34m]\u001b[0m \u001b[0;31m# a_k-1\u001b[0m\u001b[0;34m\u001b[0m\u001b[0;34m\u001b[0m\u001b[0m\n\u001b[1;32m     43\u001b[0m     \u001b[0mai_k\u001b[0m \u001b[0;34m=\u001b[0m \u001b[0mA\u001b[0m\u001b[0;34m[\u001b[0m\u001b[0mi_k1\u001b[0m\u001b[0;34m,\u001b[0m\u001b[0;34m:\u001b[0m\u001b[0;34m]\u001b[0m \u001b[0;31m# a_k\u001b[0m\u001b[0;34m\u001b[0m\u001b[0;34m\u001b[0m\u001b[0m\n\u001b[0;32m---> 44\u001b[0;31m     \u001b[0mD_ik\u001b[0m \u001b[0;34m=\u001b[0m \u001b[0mai\u001b[0m\u001b[0;34m@\u001b[0m\u001b[0mai_k\u001b[0m\u001b[0;34m\u001b[0m\u001b[0;34m\u001b[0m\u001b[0m\n\u001b[0m\u001b[1;32m     45\u001b[0m     \u001b[0mr\u001b[0m \u001b[0;34m=\u001b[0m \u001b[0my\u001b[0m\u001b[0;34m[\u001b[0m\u001b[0mi_k1\u001b[0m\u001b[0;34m]\u001b[0m \u001b[0;34m-\u001b[0m \u001b[0mai_k\u001b[0m\u001b[0;34m@\u001b[0m\u001b[0mx_old\u001b[0m\u001b[0;34m\u001b[0m\u001b[0;34m\u001b[0m\u001b[0m\n\u001b[1;32m     46\u001b[0m     \u001b[0mw\u001b[0m \u001b[0;34m=\u001b[0m \u001b[0mai_k\u001b[0m \u001b[0;34m-\u001b[0m \u001b[0;34m(\u001b[0m\u001b[0;34m(\u001b[0m\u001b[0mD_ik\u001b[0m \u001b[0;34m/\u001b[0m \u001b[0mnp\u001b[0m\u001b[0;34m.\u001b[0m\u001b[0mlinalg\u001b[0m\u001b[0;34m.\u001b[0m\u001b[0mnorm\u001b[0m\u001b[0;34m(\u001b[0m\u001b[0mai\u001b[0m\u001b[0;34m)\u001b[0m\u001b[0;34m**\u001b[0m\u001b[0;36m2\u001b[0m\u001b[0;34m)\u001b[0m \u001b[0;34m*\u001b[0m \u001b[0mai\u001b[0m\u001b[0;34m)\u001b[0m\u001b[0;34m\u001b[0m\u001b[0;34m\u001b[0m\u001b[0m\n",
      "\u001b[0;31mKeyboardInterrupt\u001b[0m: "
     ]
    }
   ],
   "source": [
    "gko_start_div = process_time()\n",
    "gko_div = gko(div,x,y, 0.5*10**-5)\n",
    "gko_stop_div = process_time()"
   ]
  },
  {
   "cell_type": "code",
   "execution_count": 38,
   "metadata": {
    "cell_id": "26b14f045b2f46eb861a2943fb4d5335",
    "deepnote_cell_type": "code",
    "deepnote_to_be_reexecuted": false,
    "execution_millis": 14,
    "execution_start": 1688593132107,
    "source_hash": null
   },
   "outputs": [],
   "source": [
    "mwrko_start_div = process_time()\n",
    "mwrko_div = mwrko(div,x,y, 0.5*10**-5)\n",
    "mwrko_stop_div = process_time()"
   ]
  },
  {
   "cell_type": "code",
   "execution_count": 42,
   "metadata": {},
   "outputs": [
    {
     "ename": "NameError",
     "evalue": "name 'gko_stop_div' is not defined",
     "output_type": "error",
     "traceback": [
      "\u001b[0;31m---------------------------------------------------------------------------\u001b[0m",
      "\u001b[0;31mNameError\u001b[0m                                 Traceback (most recent call last)",
      "\u001b[0;32m/var/folders/x_/btjkjnjd5zqf_4d8c2f4s20h0000gn/T/ipykernel_26208/2187085003.py\u001b[0m in \u001b[0;36m<module>\u001b[0;34m\u001b[0m\n\u001b[1;32m      1\u001b[0m \u001b[0;31m# cpu data\u001b[0m\u001b[0;34m\u001b[0m\u001b[0;34m\u001b[0m\u001b[0m\n\u001b[1;32m      2\u001b[0m \u001b[0mgk_cpu_div\u001b[0m \u001b[0;34m=\u001b[0m \u001b[0mgk_stop_div\u001b[0m \u001b[0;34m-\u001b[0m \u001b[0mgk_start_div\u001b[0m\u001b[0;34m\u001b[0m\u001b[0;34m\u001b[0m\u001b[0m\n\u001b[0;32m----> 3\u001b[0;31m \u001b[0mgko_cpu_div\u001b[0m \u001b[0;34m=\u001b[0m \u001b[0mgko_stop_div\u001b[0m \u001b[0;34m-\u001b[0m \u001b[0mgko_start_div\u001b[0m\u001b[0;34m\u001b[0m\u001b[0;34m\u001b[0m\u001b[0m\n\u001b[0m\u001b[1;32m      4\u001b[0m \u001b[0mmwrko_cpu_div\u001b[0m \u001b[0;34m=\u001b[0m \u001b[0mmwrko_stop_div\u001b[0m \u001b[0;34m-\u001b[0m \u001b[0mmwrko_start_div\u001b[0m\u001b[0;34m\u001b[0m\u001b[0;34m\u001b[0m\u001b[0m\n",
      "\u001b[0;31mNameError\u001b[0m: name 'gko_stop_div' is not defined"
     ]
    }
   ],
   "source": [
    "# cpu data\n",
    "gk_cpu_div = gk_stop_div - gk_start_div\n",
    "gko_cpu_div = gko_stop_div - gko_start_div\n",
    "mwrko_cpu_div = mwrko_stop_div - mwrko_start_div"
   ]
  },
  {
   "cell_type": "code",
   "execution_count": 40,
   "metadata": {
    "cell_id": "cf57b2b003bc44689fad97323b139f47",
    "deepnote_cell_type": "code",
    "deepnote_to_be_reexecuted": false,
    "execution_millis": 74,
    "execution_start": 1688592290913,
    "source_hash": null
   },
   "outputs": [
    {
     "data": {
      "text/plain": [
       "<matplotlib.legend.Legend at 0x7fc5527b1e80>"
      ]
     },
     "execution_count": 40,
     "metadata": {},
     "output_type": "execute_result"
    },
    {
     "data": {
      "image/png": "[encoded data removed]",
      "text/plain": [
       "<Figure size 432x288 with 1 Axes>"
      ]
     },
     "metadata": {
      "needs_background": "light"
     },
     "output_type": "display_data"
    }
   ],
   "source": [
    "plt.semilogy(np.arange(gk_div[0]), gk_div[1], linestyle = 'solid', label = 'GK')\n",
    "plt.semilogy(np.arange(gko_div[0]), gko_div[1], linestyle = 'dotted', label = 'GKO')\n",
    "plt.semilogy(np.arange(mwrko_div[0]), mwrko_div[1], linestyle = 'dashed', label = 'MWRKO')\n",
    "\n",
    "plt.xlabel('Iterations')\n",
    "plt.ylabel('Approximation Error')\n",
    "plt.title('Iterations vs. Approximation Error (Divorce)')\n",
    "plt.legend()"
   ]
  },
  {
   "cell_type": "code",
   "execution_count": 41,
   "metadata": {},
   "outputs": [
    {
     "ename": "NameError",
     "evalue": "name 'gk_cpu_div' is not defined",
     "output_type": "error",
     "traceback": [
      "\u001b[0;31m---------------------------------------------------------------------------\u001b[0m",
      "\u001b[0;31mNameError\u001b[0m                                 Traceback (most recent call last)",
      "\u001b[0;32m/var/folders/x_/btjkjnjd5zqf_4d8c2f4s20h0000gn/T/ipykernel_26208/68551290.py\u001b[0m in \u001b[0;36m<module>\u001b[0;34m\u001b[0m\n\u001b[0;32m----> 1\u001b[0;31m \u001b[0mplt\u001b[0m\u001b[0;34m.\u001b[0m\u001b[0msemilogy\u001b[0m\u001b[0;34m(\u001b[0m\u001b[0mnp\u001b[0m\u001b[0;34m.\u001b[0m\u001b[0mlinspace\u001b[0m\u001b[0;34m(\u001b[0m\u001b[0;36m0\u001b[0m\u001b[0;34m,\u001b[0m\u001b[0mgk_cpu_div\u001b[0m\u001b[0;34m,\u001b[0m\u001b[0mgk_div\u001b[0m\u001b[0;34m[\u001b[0m\u001b[0;36m0\u001b[0m\u001b[0;34m]\u001b[0m\u001b[0;34m)\u001b[0m\u001b[0;34m,\u001b[0m \u001b[0mgk_div\u001b[0m\u001b[0;34m[\u001b[0m\u001b[0;36m1\u001b[0m\u001b[0;34m]\u001b[0m\u001b[0;34m,\u001b[0m\u001b[0mlinestyle\u001b[0m \u001b[0;34m=\u001b[0m \u001b[0;34m'solid'\u001b[0m\u001b[0;34m,\u001b[0m \u001b[0mlabel\u001b[0m \u001b[0;34m=\u001b[0m \u001b[0;34m'GK'\u001b[0m\u001b[0;34m)\u001b[0m\u001b[0;34m\u001b[0m\u001b[0;34m\u001b[0m\u001b[0m\n\u001b[0m\u001b[1;32m      2\u001b[0m \u001b[0mplt\u001b[0m\u001b[0;34m.\u001b[0m\u001b[0msemilogy\u001b[0m\u001b[0;34m(\u001b[0m\u001b[0mnp\u001b[0m\u001b[0;34m.\u001b[0m\u001b[0mlinspace\u001b[0m\u001b[0;34m(\u001b[0m\u001b[0;36m0\u001b[0m\u001b[0;34m,\u001b[0m\u001b[0mgko_cpu_div\u001b[0m\u001b[0;34m,\u001b[0m\u001b[0mgko_div\u001b[0m\u001b[0;34m[\u001b[0m\u001b[0;36m0\u001b[0m\u001b[0;34m]\u001b[0m\u001b[0;34m)\u001b[0m\u001b[0;34m,\u001b[0m \u001b[0mgko_div\u001b[0m\u001b[0;34m[\u001b[0m\u001b[0;36m1\u001b[0m\u001b[0;34m]\u001b[0m\u001b[0;34m,\u001b[0m \u001b[0mlinestyle\u001b[0m \u001b[0;34m=\u001b[0m \u001b[0;34m'dotted'\u001b[0m\u001b[0;34m,\u001b[0m \u001b[0mlabel\u001b[0m \u001b[0;34m=\u001b[0m \u001b[0;34m'GKO'\u001b[0m\u001b[0;34m)\u001b[0m\u001b[0;34m\u001b[0m\u001b[0;34m\u001b[0m\u001b[0m\n\u001b[1;32m      3\u001b[0m \u001b[0mplt\u001b[0m\u001b[0;34m.\u001b[0m\u001b[0msemilogy\u001b[0m\u001b[0;34m(\u001b[0m\u001b[0mnp\u001b[0m\u001b[0;34m.\u001b[0m\u001b[0mlinspace\u001b[0m\u001b[0;34m(\u001b[0m\u001b[0;36m0\u001b[0m\u001b[0;34m,\u001b[0m\u001b[0mmwrko_cpu_div\u001b[0m\u001b[0;34m,\u001b[0m\u001b[0mmwrko_div\u001b[0m\u001b[0;34m[\u001b[0m\u001b[0;36m0\u001b[0m\u001b[0;34m]\u001b[0m\u001b[0;34m)\u001b[0m\u001b[0;34m,\u001b[0m \u001b[0mmwrko_div\u001b[0m\u001b[0;34m[\u001b[0m\u001b[0;36m1\u001b[0m\u001b[0;34m]\u001b[0m\u001b[0;34m,\u001b[0m\u001b[0mlinestyle\u001b[0m \u001b[0;34m=\u001b[0m \u001b[0;34m'dashed'\u001b[0m\u001b[0;34m,\u001b[0m \u001b[0mlabel\u001b[0m \u001b[0;34m=\u001b[0m \u001b[0;34m'MWRKO'\u001b[0m\u001b[0;34m)\u001b[0m\u001b[0;34m\u001b[0m\u001b[0;34m\u001b[0m\u001b[0m\n\u001b[1;32m      4\u001b[0m \u001b[0;34m\u001b[0m\u001b[0m\n\u001b[1;32m      5\u001b[0m \u001b[0mplt\u001b[0m\u001b[0;34m.\u001b[0m\u001b[0mxlabel\u001b[0m\u001b[0;34m(\u001b[0m\u001b[0;34m'CPU'\u001b[0m\u001b[0;34m)\u001b[0m\u001b[0;34m\u001b[0m\u001b[0;34m\u001b[0m\u001b[0m\n",
      "\u001b[0;31mNameError\u001b[0m: name 'gk_cpu_div' is not defined"
     ]
    }
   ],
   "source": [
    "plt.semilogy(np.linspace(0,gk_cpu_div,gk_div[0]), gk_div[1],linestyle = 'solid', label = 'GK')\n",
    "plt.semilogy(np.linspace(0,gko_cpu_div,gko_div[0]), gko_div[1], linestyle = 'dotted', label = 'GKO')\n",
    "plt.semilogy(np.linspace(0,mwrko_cpu_div,mwrko_div[0]), mwrko_div[1],linestyle = 'dashed', label = 'MWRKO')\n",
    "\n",
    "plt.xlabel('CPU')\n",
    "plt.ylabel('Approximation Error')\n",
    "plt.title('CPU vs. Approximation Error (Divorce)')\n",
    "plt.legend()"
   ]
  },
  {
   "cell_type": "markdown",
   "metadata": {
    "cell_id": "cc9c2a7f90614183982b94c0c366f580",
    "deepnote_cell_type": "text-cell-h3",
    "formattedRanges": []
   },
   "source": [
    "### Photogrammetry"
   ]
  },
  {
   "cell_type": "code",
   "execution_count": 29,
   "metadata": {
    "cell_id": "3e70c6f39c074b02ad993bdd5d69e5df",
    "deepnote_cell_type": "code",
    "deepnote_to_be_reexecuted": false,
    "execution_millis": 1002,
    "execution_start": 1688592961168,
    "source_hash": null
   },
   "outputs": [],
   "source": [
    "pho = (photogrammetry['Problem'][0][0]['A'])\n",
    "pho = pho.toarray()\n",
    "for n in pho:\n",
    "    pho = np.delete(pho, np.where(np.linalg.norm(n) == 0), axis = 0)\n",
    "pho = normalize(pho, axis=1, norm='l2')\n",
    "x = np.random.rand(pho.shape[1])\n",
    "y = pho @ x"
   ]
  },
  {
   "cell_type": "code",
   "execution_count": 30,
   "metadata": {
    "cell_id": "365eb1c95d004cfba2c91b722d1736be",
    "deepnote_cell_type": "code",
    "deepnote_to_be_reexecuted": false,
    "execution_millis": 19,
    "execution_start": 1688592965762,
    "source_hash": null
   },
   "outputs": [
    {
     "data": {
      "text/plain": [
       "(1254, 390)"
      ]
     },
     "execution_count": 30,
     "metadata": {},
     "output_type": "execute_result"
    }
   ],
   "source": [
    "pho.shape"
   ]
  },
  {
   "cell_type": "code",
   "execution_count": 31,
   "metadata": {
    "cell_id": "24c86d45d61d4e44a407ec6f3175c701",
    "deepnote_app_is_output_hidden": true,
    "deepnote_cell_type": "code",
    "deepnote_to_be_reexecuted": false,
    "execution_millis": 11680,
    "execution_start": 1688592967667,
    "is_output_hidden": false,
    "source_hash": null
   },
   "outputs": [
    {
     "ename": "KeyboardInterrupt",
     "evalue": "",
     "output_type": "error",
     "traceback": [
      "\u001b[0;31m---------------------------------------------------------------------------\u001b[0m",
      "\u001b[0;31mKeyboardInterrupt\u001b[0m                         Traceback (most recent call last)",
      "\u001b[0;32m/var/folders/x_/btjkjnjd5zqf_4d8c2f4s20h0000gn/T/ipykernel_49862/3393899755.py\u001b[0m in \u001b[0;36m<module>\u001b[0;34m\u001b[0m\n\u001b[1;32m      1\u001b[0m \u001b[0mgk_start_pho\u001b[0m \u001b[0;34m=\u001b[0m \u001b[0mprocess_time\u001b[0m\u001b[0;34m(\u001b[0m\u001b[0;34m)\u001b[0m\u001b[0;34m\u001b[0m\u001b[0;34m\u001b[0m\u001b[0m\n\u001b[0;32m----> 2\u001b[0;31m \u001b[0mgk_pho\u001b[0m \u001b[0;34m=\u001b[0m \u001b[0mgk\u001b[0m\u001b[0;34m(\u001b[0m\u001b[0mpho\u001b[0m\u001b[0;34m,\u001b[0m\u001b[0mx\u001b[0m\u001b[0;34m,\u001b[0m\u001b[0my\u001b[0m\u001b[0;34m,\u001b[0m\u001b[0;36m0.5\u001b[0m\u001b[0;34m*\u001b[0m\u001b[0;36m10\u001b[0m\u001b[0;34m**\u001b[0m\u001b[0;34m-\u001b[0m\u001b[0;36m5\u001b[0m\u001b[0;34m)\u001b[0m\u001b[0;34m\u001b[0m\u001b[0;34m\u001b[0m\u001b[0m\n\u001b[0m\u001b[1;32m      3\u001b[0m \u001b[0mgk_stop_pho\u001b[0m \u001b[0;34m=\u001b[0m \u001b[0mprocess_time\u001b[0m\u001b[0;34m(\u001b[0m\u001b[0;34m)\u001b[0m\u001b[0;34m\u001b[0m\u001b[0;34m\u001b[0m\u001b[0m\n",
      "\u001b[0;32m~/Downloads/gk.py\u001b[0m in \u001b[0;36mgk\u001b[0;34m(A, x, y, TOL)\u001b[0m\n\u001b[1;32m     10\u001b[0m   \u001b[0map_error\u001b[0m\u001b[0;34m.\u001b[0m\u001b[0mappend\u001b[0m\u001b[0;34m(\u001b[0m\u001b[0mar\u001b[0m\u001b[0;34m)\u001b[0m\u001b[0;34m\u001b[0m\u001b[0;34m\u001b[0m\u001b[0m\n\u001b[1;32m     11\u001b[0m   \u001b[0;32mwhile\u001b[0m \u001b[0;32mTrue\u001b[0m\u001b[0;34m:\u001b[0m\u001b[0;34m\u001b[0m\u001b[0;34m\u001b[0m\u001b[0m\n\u001b[0;32m---> 12\u001b[0;31m     \u001b[0mr\u001b[0m \u001b[0;34m=\u001b[0m \u001b[0;34m(\u001b[0m\u001b[0mA\u001b[0m\u001b[0;34m@\u001b[0m\u001b[0mx_old\u001b[0m \u001b[0;34m-\u001b[0m \u001b[0my\u001b[0m\u001b[0;34m)\u001b[0m\u001b[0;34m**\u001b[0m\u001b[0;36m2\u001b[0m\u001b[0;34m\u001b[0m\u001b[0;34m\u001b[0m\u001b[0m\n\u001b[0m\u001b[1;32m     13\u001b[0m     \u001b[0mi\u001b[0m \u001b[0;34m=\u001b[0m \u001b[0mnp\u001b[0m\u001b[0;34m.\u001b[0m\u001b[0margmax\u001b[0m\u001b[0;34m(\u001b[0m\u001b[0mr\u001b[0m\u001b[0;34m)\u001b[0m\u001b[0;34m\u001b[0m\u001b[0;34m\u001b[0m\u001b[0m\n\u001b[1;32m     14\u001b[0m     \u001b[0mai\u001b[0m \u001b[0;34m=\u001b[0m \u001b[0mA\u001b[0m\u001b[0;34m[\u001b[0m\u001b[0mi\u001b[0m\u001b[0;34m,\u001b[0m\u001b[0;34m:\u001b[0m\u001b[0;34m]\u001b[0m\u001b[0;34m\u001b[0m\u001b[0;34m\u001b[0m\u001b[0m\n",
      "\u001b[0;31mKeyboardInterrupt\u001b[0m: "
     ]
    }
   ],
   "source": [
    "gk_start_pho = process_time()\n",
    "gk_pho = gk(pho,x,y,0.5*10**-5)\n",
    "gk_stop_pho = process_time()"
   ]
  },
  {
   "cell_type": "code",
   "execution_count": null,
   "metadata": {
    "cell_id": "8beb5e6b45394673892d4b6692596138",
    "deepnote_cell_type": "code",
    "deepnote_to_be_reexecuted": false,
    "execution_millis": 9752,
    "execution_start": 1688592384086,
    "source_hash": null
   },
   "outputs": [],
   "source": [
    "gko_start_pho = process_time()\n",
    "gko_pho = gko(pho,x,y,0.5*10**-5)\n",
    "gko_stop_pho = process_time()"
   ]
  },
  {
   "cell_type": "code",
   "execution_count": null,
   "metadata": {
    "cell_id": "581ef947c5f6492bb42e2196f85c56b2",
    "deepnote_cell_type": "code",
    "deepnote_to_be_reexecuted": false,
    "execution_millis": 4860,
    "execution_start": 1688592377801,
    "source_hash": null
   },
   "outputs": [],
   "source": [
    "mwrko_start_pho = process_time()\n",
    "mwrko_pho = mwrko(pho,x,y,0.5*10**-5)\n",
    "mwrko_stop_pho = process_time()"
   ]
  },
  {
   "cell_type": "code",
   "execution_count": null,
   "metadata": {},
   "outputs": [],
   "source": [
    "# cpu data\n",
    "gk_cpu_pho = gk_stop_pho - gk_start_pho\n",
    "gko_cpu_pho = gko_stop_pho - gko_start_pho\n",
    "mwrko_cpu_pho = mwrko_stop_pho - mwrko_start_pho"
   ]
  },
  {
   "cell_type": "code",
   "execution_count": null,
   "metadata": {
    "cell_id": "7d7294edb31944deb68fbf9e2818e22a",
    "deepnote_cell_type": "code",
    "deepnote_to_be_reexecuted": true,
    "source_hash": null
   },
   "outputs": [],
   "source": [
    "plt.semilogy(np.arange(gk_pho[0]), gk_pho[1], linestyle = 'solid', label = 'GK')\n",
    "plt.semilogy(np.arange(gko_pho[0]), gko_pho[1], linestyle = 'dotted', label = 'GKO')\n",
    "plt.semilogy(np.arange(mwrko_pho[0]), mwrko_pho[1], linestyle = 'dashed', label = 'MWRKO')\n",
    "\n",
    "plt.xlabel('Iterations')\n",
    "plt.ylabel('Approximation Error')\n",
    "plt.title('Iterations vs. Approximation Error (Photogrammetry)')\n",
    "plt.legend()"
   ]
  },
  {
   "cell_type": "code",
   "execution_count": null,
   "metadata": {},
   "outputs": [],
   "source": [
    "plt.semilogy(np.linspace(0,gk_cpu_pho,gk_pho[0]), gk_pho[1],linestyle = 'solid', label = 'GK')\n",
    "plt.semilogy(np.linspace(0,gko_cpu_pho,gko_pho[0]), gko_pho[1], linestyle = 'dotted', label = 'GKO')\n",
    "plt.semilogy(np.linspace(0,mwrko_cpu_pho,mwrko_pho[0]), mwrko_pho[1],linestyle = 'dashed', label = 'MWRKO')\n",
    "\n",
    "plt.xlabel('CPU')\n",
    "plt.ylabel('Approximation Error')\n",
    "plt.title('CPU vs. Approximation Error (Photogrammetry)')\n",
    "plt.legend()"
   ]
  },
  {
   "cell_type": "markdown",
   "metadata": {
    "cell_id": "5c6b5e311bcd4a34961677dd00c9e35f",
    "deepnote_cell_type": "text-cell-h3",
    "formattedRanges": []
   },
   "source": [
    "### Stranke94"
   ]
  },
  {
   "cell_type": "code",
   "execution_count": 4,
   "metadata": {
    "cell_id": "e49119f701b34da4abfeeaf4c3ac7861",
    "deepnote_cell_type": "code",
    "deepnote_to_be_reexecuted": false,
    "execution_millis": 13,
    "execution_start": 1688592412102,
    "source_hash": null
   },
   "outputs": [],
   "source": [
    "stranke = Stranke94['Problem'][0][0]['A']\n",
    "stranke = stranke.toarray()\n",
    "for n in stranke:\n",
    "    stranke = np.delete(stranke, np.where(np.linalg.norm(n) == 0), axis = 0)\n",
    "x = np.random.rand(10)\n",
    "y = stranke @ x"
   ]
  },
  {
   "cell_type": "code",
   "execution_count": 5,
   "metadata": {
    "cell_id": "e00635801727478aac2bc9c7935766f8",
    "deepnote_cell_type": "code",
    "deepnote_to_be_reexecuted": false,
    "execution_millis": 10,
    "execution_start": 1688592414241,
    "source_hash": null
   },
   "outputs": [
    {
     "data": {
      "text/plain": [
       "(10, 10)"
      ]
     },
     "execution_count": 5,
     "metadata": {},
     "output_type": "execute_result"
    }
   ],
   "source": [
    "stranke.shape"
   ]
  },
  {
   "cell_type": "code",
   "execution_count": 6,
   "metadata": {
    "cell_id": "0f18365b423848c9b85244b1870b77bd",
    "deepnote_cell_type": "code",
    "deepnote_to_be_reexecuted": false,
    "execution_millis": 599,
    "execution_start": 1688592416793,
    "source_hash": null
   },
   "outputs": [],
   "source": [
    "gk_start_stranke = process_time()\n",
    "gk_stranke = gk(stranke,x,y,0.5*10**-5)\n",
    "gk_stop_stranke = process_time()"
   ]
  },
  {
   "cell_type": "code",
   "execution_count": 7,
   "metadata": {
    "cell_id": "61b39f6f124a40949adf743e78dbc8bd",
    "deepnote_cell_type": "code",
    "deepnote_to_be_reexecuted": false,
    "execution_millis": 311,
    "execution_start": 1688592421455,
    "source_hash": null
   },
   "outputs": [],
   "source": [
    "gko_start_stranke = process_time()\n",
    "gko_stranke = gko(stranke,x,y,0.5*10**-5)\n",
    "gko_stop_stranke = process_time()"
   ]
  },
  {
   "cell_type": "code",
   "execution_count": 8,
   "metadata": {
    "cell_id": "98033adc28dc4499a0260550d2caf357",
    "deepnote_cell_type": "code",
    "deepnote_to_be_reexecuted": false,
    "execution_millis": 195,
    "execution_start": 1688592425072,
    "source_hash": null
   },
   "outputs": [],
   "source": [
    "mwrko_start_stranke = process_time()\n",
    "mwrko_stranke = mwrko(stranke,x,y,0.5*10**-5)\n",
    "mwrko_stop_stranke = process_time()"
   ]
  },
  {
   "cell_type": "code",
   "execution_count": 9,
   "metadata": {},
   "outputs": [],
   "source": [
    "# cpu data\n",
    "gk_cpu_stranke = gk_stop_stranke - gk_start_stranke\n",
    "gko_cpu_stranke = gko_stop_stranke - gko_start_stranke\n",
    "mwrko_cpu_stranke = mwrko_stop_stranke - mwrko_start_stranke"
   ]
  },
  {
   "cell_type": "code",
   "execution_count": 12,
   "metadata": {
    "cell_id": "e822d31d0db64be48006402a466e2826",
    "deepnote_cell_type": "code",
    "deepnote_to_be_reexecuted": false,
    "execution_millis": 80,
    "execution_start": 1688592499395,
    "source_hash": null
   },
   "outputs": [
    {
     "data": {
      "text/plain": [
       "<matplotlib.legend.Legend at 0x7f7cf665da30>"
      ]
     },
     "execution_count": 12,
     "metadata": {},
     "output_type": "execute_result"
    },
    {
     "data": {
      "image/png": "[encoded data removed]",
      "text/plain": [
       "<Figure size 432x288 with 1 Axes>"
      ]
     },
     "metadata": {
      "needs_background": "light"
     },
     "output_type": "display_data"
    }
   ],
   "source": [
    "plt.semilogy(np.arange(gk_stranke[0]), gk_stranke[1], linestyle = 'solid', label = 'GK')\n",
    "plt.semilogy(np.arange(gko_stranke[0]), gko_stranke[1], linestyle = 'dotted', label = 'GKO')\n",
    "plt.semilogy(np.arange(mwrko_stranke[0]), mwrko_stranke[1], linestyle = 'dashed', label = 'MWRKO')\n",
    "plt.xlabel('IT')\n",
    "plt.ylabel('AR')\n",
    "plt.title('Stranke94')\n",
    "plt.legend()"
   ]
  },
  {
   "cell_type": "code",
   "execution_count": 14,
   "metadata": {},
   "outputs": [
    {
     "data": {
      "text/plain": [
       "<matplotlib.legend.Legend at 0x7f7cf6e9a6a0>"
      ]
     },
     "execution_count": 14,
     "metadata": {},
     "output_type": "execute_result"
    },
    {
     "data": {
      "image/png": "[encoded data removed]",
      "text/plain": [
       "<Figure size 432x288 with 1 Axes>"
      ]
     },
     "metadata": {
      "needs_background": "light"
     },
     "output_type": "display_data"
    }
   ],
   "source": [
    "plt.semilogy(np.linspace(0,gk_cpu_stranke,gk_stranke[0]), gk_stranke[1],linestyle = 'solid', label = 'GK')\n",
    "plt.semilogy(np.linspace(0,gko_cpu_stranke,gko_stranke[0]), gko_stranke[1], linestyle = 'dotted', label = 'GKO')\n",
    "plt.semilogy(np.linspace(0,mwrko_cpu_stranke,mwrko_stranke[0]), mwrko_stranke[1],linestyle = 'dashed', label = 'MWRKO')\n",
    "\n",
    "plt.xlabel('CPU')\n",
    "plt.ylabel('AR')\n",
    "plt.title('Stranke94')\n",
    "plt.legend()"
   ]
  },
  {
   "cell_type": "markdown",
   "metadata": {
    "cell_id": "a6609de205bd4e709689cf0729158f87",
    "deepnote_cell_type": "text-cell-h3",
    "formattedRanges": []
   },
   "source": [
    "### well1033"
   ]
  },
  {
   "cell_type": "code",
   "execution_count": 12,
   "metadata": {
    "cell_id": "ddec56cb0a834232a1085bab3e34b21e",
    "deepnote_cell_type": "code",
    "deepnote_to_be_reexecuted": false,
    "execution_millis": 465,
    "execution_start": 1688592524370,
    "source_hash": null
   },
   "outputs": [],
   "source": [
    "wel = well1033[\"Problem\"][0][0][\"A\"]\n",
    "wel = wel.toarray()\n",
    "for n in wel:\n",
    "    wel = np.delete(wel, np.where(np.linalg.norm(n) == 0), axis = 0)\n",
    "x = np.random.rand(wel.shape[1])\n",
    "y = wel @ x"
   ]
  },
  {
   "cell_type": "code",
   "execution_count": 13,
   "metadata": {
    "cell_id": "fd3b326c4cec4d7fae352fce93fda5bb",
    "deepnote_cell_type": "code",
    "deepnote_to_be_reexecuted": false,
    "execution_millis": 27,
    "execution_start": 1688592518665,
    "source_hash": null
   },
   "outputs": [
    {
     "data": {
      "text/plain": [
       "(1033, 320)"
      ]
     },
     "execution_count": 13,
     "metadata": {},
     "output_type": "execute_result"
    }
   ],
   "source": [
    "wel.shape"
   ]
  },
  {
   "cell_type": "code",
   "execution_count": 14,
   "metadata": {
    "cell_id": "20728303cda4469e88cff33e358b7c2f",
    "deepnote_cell_type": "code",
    "deepnote_to_be_reexecuted": false,
    "execution_millis": 373718,
    "execution_start": 1688592526864,
    "source_hash": null
   },
   "outputs": [],
   "source": [
    "gk_start_wel = process_time()\n",
    "gk_wel = gk(wel,x,y,0.5*10**-5)\n",
    "gk_stop_wel = process_time()"
   ]
  },
  {
   "cell_type": "code",
   "execution_count": null,
   "metadata": {
    "cell_id": "9b340fcbb02c42f68cc2546182cf03d2",
    "deepnote_cell_type": "code",
    "deepnote_to_be_reexecuted": true,
    "execution_millis": 479001,
    "execution_start": 1688400929419,
    "source_hash": null
   },
   "outputs": [],
   "source": [
    "gko_start_wel = process_time()\n",
    "gko_wel = gko(wel,x,y,0.5*10**-5)\n",
    "gko_stop_wel = process_time()"
   ]
  },
  {
   "cell_type": "code",
   "execution_count": null,
   "metadata": {
    "cell_id": "5a8af40c362e4a309f8fc4bbaf672a71",
    "deepnote_cell_type": "code",
    "deepnote_to_be_reexecuted": true,
    "execution_millis": 2394,
    "execution_start": 1688192495993,
    "source_hash": null
   },
   "outputs": [],
   "source": [
    "mwrko_start_wel = process_time()\n",
    "mwrko_wel = mwrko(wel,x,y,0.5*10**-5)\n",
    "mwrko_stop_wel = process_time()"
   ]
  },
  {
   "cell_type": "code",
   "execution_count": null,
   "metadata": {
    "cell_id": "340fcd6fb65548edaa14577a81739814",
    "deepnote_cell_type": "code",
    "deepnote_to_be_reexecuted": true,
    "execution_millis": 56,
    "execution_start": 1688362997503,
    "source_hash": null
   },
   "outputs": [],
   "source": [
    "plt.semilogy(np.arange(gk_wel[0]), gk_wel[1], linestyle = 'solid', label = 'GK')\n",
    "plt.semilogy(np.arange(gko_wel[0]), gko_wel[1], linestyle = 'dotted', label = 'GKO')\n",
    "plt.semilogy(np.arange(mwrko_wel[0]), mwrko_wel[1], linestyle = 'dashed', label = 'MWRKO')\n",
    "\n",
    "plt.xlabel('Iterations')\n",
    "plt.ylabel('Approximation Error')\n",
    "plt.title('Iterations vs. Approximation Error (well1033)')\n",
    "plt.legend()"
   ]
  },
  {
   "cell_type": "code",
   "execution_count": null,
   "metadata": {},
   "outputs": [],
   "source": [
    "plt.semilogy(np.linspace(0,gk_cpu_wel,gk_wel[0]), gk_wel[1],linestyle = 'solid', label = 'GK')\n",
    "plt.semilogy(np.linspace(0,gko_cpu_wel,gko_wel[0]), gko_wel[1], linestyle = 'dotted', label = 'GKO')\n",
    "plt.semilogy(np.linspace(0,mwrko_cpu_wel,mwrko_wel[0]), mwrko_wel[1],linestyle = 'dashed', label = 'MWRKO')\n",
    "\n",
    "plt.xlabel('CPU')\n",
    "plt.ylabel('Approximation Error')\n",
    "plt.title('CPU vs. Approximation Error (Stranke94)')\n",
    "plt.legend()"
   ]
  },
  {
   "cell_type": "markdown",
   "metadata": {
    "created_in_deepnote_cell": true,
    "deepnote_cell_type": "markdown"
   },
   "source": [
    "<a style='text-decoration:none;line-height:16px;display:flex;color:#5B5B62;padding:10px;justify-content:end;' href='https://deepnote.com?utm_source=created-in-deepnote-cell&projectId=ee1e9016-236e-4f47-b4b5-346be0ac74ad' target=\"_blank\">\n",
    "<img alt='Created in deepnote.com' style='display:inline;max-height:16px;margin:0px;margin-right:7.5px;' src='data:image/svg+xml;base64,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' > </img>\n",
    "Created in <span style='font-weight:600;margin-left:4px;'>Deepnote</span></a>"
   ]
  }
 ],
 "metadata": {
  "deepnote": {},
  "deepnote_execution_queue": [],
  "deepnote_full_width": false,
  "deepnote_notebook_id": "523a76ad96524f3c9c00775c2e73ab0a",
  "kernelspec": {
   "display_name": "Python 3 (ipykernel)",
   "language": "python",
   "name": "python3"
  },
  "language_info": {
   "codemirror_mode": {
    "name": "ipython",
    "version": 3
   },
   "file_extension": ".py",
   "mimetype": "text/x-python",
   "name": "python",
   "nbconvert_exporter": "python",
   "pygments_lexer": "ipython3",
   "version": "3.9.7"
  }
 },
 "nbformat": 4,
 "nbformat_minor": 1
}
