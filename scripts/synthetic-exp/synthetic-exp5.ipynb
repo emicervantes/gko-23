{
 "cells": [
  {
   "cell_type": "code",
   "execution_count": 50,
   "id": "9f36b725",
   "metadata": {},
   "outputs": [],
   "source": [
    "# Load libraries\n",
    "import pandas as pd\n",
    "import numpy as np\n",
    "from time import process_time\n",
    "import matplotlib.pyplot as plt\n",
    "from matplotlib.lines import Line2D\n",
    "import random\n",
    "import math\n",
    "from numpy.random import default_rng\n",
    "from sklearn.preprocessing import normalize\n",
    "import matplotlib.pyplot as plt\n",
    "import itertools"
   ]
  },
  {
   "cell_type": "markdown",
   "id": "948d27f3",
   "metadata": {},
   "source": [
    "# Function for Computing $\\sin^2\\theta_{i_k}$\n",
    "\n",
    "Using the $\\cos^2\\theta_{i_k}$ function, we wrote a function that computes $\\sin^2\\theta_{i_k}$\n",
    "\n",
    "$$\\cos^2\\theta_{i_k} = \\frac{\\langle a_{i_k}, a_{i_{k-1}} \\rangle^2}{||a_{i_k}||^2||a_{i_{k-1}}||^2}$$\n",
    "\n",
    "$$\\sin^2\\theta_{i_k} = 1 - \\cos^2\\theta_{i_k}$$"
   ]
  },
  {
   "cell_type": "code",
   "execution_count": 2,
   "id": "ec87be4b",
   "metadata": {},
   "outputs": [],
   "source": [
    "def compute_sin2(A):\n",
    "    m, n = A.shape\n",
    "    # compute numerator\n",
    "    inner_p = A@np.transpose(A)\n",
    "    num = inner_p[np.triu_indices(m, k = 1)]\n",
    "    # compute denominator\n",
    "    inner_p_dig = np.diagonal(inner_p)\n",
    "    inner_p_dig = np.reshape(inner_p_dig, (m, 1))\n",
    "    prod = inner_p_dig @ np.transpose(inner_p_dig)\n",
    "    denom = prod[np.triu_indices(m, k = 1)]\n",
    "    # compute sin2\n",
    "    cos2 = num**2 / denom\n",
    "    sin2 = 1 - cos2\n",
    "    \n",
    "    return sin2"
   ]
  },
  {
   "cell_type": "code",
   "execution_count": 48,
   "id": "4905ccec",
   "metadata": {},
   "outputs": [],
   "source": [
    "A = np.random.randn(5000,500)\n",
    "inner_p = A@np.transpose(A)\n",
    "inner_p_dig = np.diagonal(inner_p)"
   ]
  },
  {
   "cell_type": "markdown",
   "id": "058e66ad",
   "metadata": {},
   "source": [
    "# Gaussian System"
   ]
  },
  {
   "cell_type": "code",
   "execution_count": 3,
   "id": "a17cc0f5",
   "metadata": {},
   "outputs": [],
   "source": [
    "# Generate System\n",
    "A = np.random.randn(5000,500)\n",
    "x = np.ones(500)\n",
    "y = A @ x\n",
    "TOL = 10**-4"
   ]
  },
  {
   "cell_type": "code",
   "execution_count": 4,
   "id": "00e20901",
   "metadata": {},
   "outputs": [],
   "source": [
    "# Find the minimum singular value\n",
    "U,S,V = np.linalg.svd(A)\n",
    "S2_min = min(S**2)\n",
    "# Find the max angle\n",
    "angles_g = compute_sin2(A)\n",
    "# Find the row norm\n",
    "row_norm_g = np.sum(np.abs(A)**2,axis=-1)"
   ]
  },
  {
   "cell_type": "code",
   "execution_count": 5,
   "id": "dbb85463",
   "metadata": {},
   "outputs": [
    {
     "data": {
      "text/plain": [
       "(array([4.0000000e+00, 2.8000000e+01, 7.5000000e+01, 3.7800000e+02,\n",
       "        1.7110000e+03, 8.0360000e+03, 3.7086000e+04, 1.8188400e+05,\n",
       "        9.6811200e+05, 1.1300186e+07]),\n",
       " array([0.9445195 , 0.95006755, 0.9556156 , 0.96116365, 0.9667117 ,\n",
       "        0.97225975, 0.9778078 , 0.98335585, 0.9889039 , 0.99445195,\n",
       "        1.        ]),\n",
       " <BarContainer object of 10 artists>)"
      ]
     },
     "execution_count": 5,
     "metadata": {},
     "output_type": "execute_result"
    },
    {
     "data": {
      "image/png": "[encoded data removed]",
      "text/plain": [
       "<Figure size 432x288 with 1 Axes>"
      ]
     },
     "metadata": {
      "needs_background": "light"
     },
     "output_type": "display_data"
    }
   ],
   "source": [
    "plt.hist(angles_g)"
   ]
  },
  {
   "cell_type": "code",
   "execution_count": 6,
   "id": "bf4af9e4",
   "metadata": {},
   "outputs": [
    {
     "data": {
      "text/plain": [
       "(array([  25.,  145.,  455., 1082., 1302., 1094.,  617.,  210.,   57.,\n",
       "          13.]),\n",
       " array([398.39013463, 420.25859823, 442.12706182, 463.99552542,\n",
       "        485.86398901, 507.73245261, 529.6009162 , 551.46937979,\n",
       "        573.33784339, 595.20630698, 617.07477058]),\n",
       " <BarContainer object of 10 artists>)"
      ]
     },
     "execution_count": 6,
     "metadata": {},
     "output_type": "execute_result"
    },
    {
     "data": {
      "image/png": "[encoded data removed]",
      "text/plain": [
       "<Figure size 432x288 with 1 Axes>"
      ]
     },
     "metadata": {
      "needs_background": "light"
     },
     "output_type": "display_data"
    }
   ],
   "source": [
    "plt.hist(row_norm_g)"
   ]
  },
  {
   "cell_type": "markdown",
   "id": "aa251e2c",
   "metadata": {},
   "source": [
    "# Uniform System"
   ]
  },
  {
   "cell_type": "code",
   "execution_count": 7,
   "id": "9a7bb5b5",
   "metadata": {},
   "outputs": [],
   "source": [
    "# Generate System\n",
    "A = np.random.uniform(low = 0, high = 1, size  = (5000,500))\n",
    "x = np.ones(500)\n",
    "y = A @ x"
   ]
  },
  {
   "cell_type": "code",
   "execution_count": 8,
   "id": "5a12fff0",
   "metadata": {},
   "outputs": [],
   "source": [
    "# Find the minimum singular value\n",
    "U,S,V = np.linalg.svd(A)\n",
    "S2_min = min(S**2)\n",
    "# Find the max angle\n",
    "angles_u = compute_sin2(A)\n",
    "# Find the row norm\n",
    "row_norm_u = np.sum(np.abs(A)**2,axis=-1)"
   ]
  },
  {
   "cell_type": "code",
   "execution_count": 9,
   "id": "22437b2b",
   "metadata": {},
   "outputs": [
    {
     "data": {
      "text/plain": [
       "(array([1.770000e+02, 1.219200e+04, 2.679370e+05, 1.907684e+06,\n",
       "        4.695214e+06, 4.129126e+06, 1.321536e+06, 1.563700e+05,\n",
       "        7.110000e+03, 1.540000e+02]),\n",
       " array([0.32814701, 0.35047456, 0.37280211, 0.39512966, 0.41745721,\n",
       "        0.43978476, 0.46211231, 0.48443986, 0.50676741, 0.52909496,\n",
       "        0.55142251]),\n",
       " <BarContainer object of 10 artists>)"
      ]
     },
     "execution_count": 9,
     "metadata": {},
     "output_type": "execute_result"
    },
    {
     "data": {
      "image/png": "[encoded data removed]",
      "text/plain": [
       "<Figure size 432x288 with 1 Axes>"
      ]
     },
     "metadata": {
      "needs_background": "light"
     },
     "output_type": "display_data"
    }
   ],
   "source": [
    "plt.hist(angles_u)"
   ]
  },
  {
   "cell_type": "code",
   "execution_count": 10,
   "id": "1b962074",
   "metadata": {},
   "outputs": [
    {
     "data": {
      "text/plain": [
       "(array([   2.,    6.,   59.,  356., 1035., 1566., 1247.,  558.,  155.,\n",
       "          16.]),\n",
       " array([136.29866698, 141.64708133, 146.99549569, 152.34391004,\n",
       "        157.69232439, 163.04073874, 168.3891531 , 173.73756745,\n",
       "        179.0859818 , 184.43439615, 189.78281051]),\n",
       " <BarContainer object of 10 artists>)"
      ]
     },
     "execution_count": 10,
     "metadata": {},
     "output_type": "execute_result"
    },
    {
     "data": {
      "image/png": "[encoded data removed]",
      "text/plain": [
       "<Figure size 432x288 with 1 Axes>"
      ]
     },
     "metadata": {
      "needs_background": "light"
     },
     "output_type": "display_data"
    }
   ],
   "source": [
    "plt.hist(row_norm_u)"
   ]
  },
  {
   "cell_type": "markdown",
   "id": "2a031b9c",
   "metadata": {},
   "source": [
    "# Mixture Systems"
   ]
  },
  {
   "cell_type": "markdown",
   "id": "5c66dd69",
   "metadata": {},
   "source": [
    "## 50/50"
   ]
  },
  {
   "cell_type": "code",
   "execution_count": 11,
   "id": "d23f2e5e",
   "metadata": {},
   "outputs": [],
   "source": [
    "# generate system\n",
    "A1 = np.random.rand(2500,500)\n",
    "A2 = np.random.uniform(low = 0, high = 1, size  = (2500,500))\n",
    "A = np.concatenate((A1, A2))\n",
    "x = np.ones(500)\n",
    "y = A @ x"
   ]
  },
  {
   "cell_type": "code",
   "execution_count": 12,
   "id": "acff324a",
   "metadata": {},
   "outputs": [],
   "source": [
    "# Find the minimum singular value\n",
    "U,S,V = np.linalg.svd(A)\n",
    "S2_min = min(S**2)\n",
    "# Find the max angle\n",
    "angles_gu1 = compute_sin2(A)\n",
    "# Find the row norm\n",
    "row_norm_gu1 = np.sum(np.abs(A)**2,axis=-1)"
   ]
  },
  {
   "cell_type": "code",
   "execution_count": 13,
   "id": "53ec463e",
   "metadata": {},
   "outputs": [
    {
     "data": {
      "text/plain": [
       "(array([6.800000e+01, 7.507000e+03, 2.054610e+05, 1.679485e+06,\n",
       "        4.576400e+06, 4.345503e+06, 1.485592e+06, 1.877990e+05,\n",
       "        9.472000e+03, 2.130000e+02]),\n",
       " array([0.32472761, 0.34727402, 0.36982042, 0.39236683, 0.41491323,\n",
       "        0.43745964, 0.46000605, 0.48255245, 0.50509886, 0.52764526,\n",
       "        0.55019167]),\n",
       " <BarContainer object of 10 artists>)"
      ]
     },
     "execution_count": 13,
     "metadata": {},
     "output_type": "execute_result"
    },
    {
     "data": {
      "image/png": "[encoded data removed]",
      "text/plain": [
       "<Figure size 432x288 with 1 Axes>"
      ]
     },
     "metadata": {
      "needs_background": "light"
     },
     "output_type": "display_data"
    }
   ],
   "source": [
    "plt.hist(angles_gu1)"
   ]
  },
  {
   "cell_type": "code",
   "execution_count": 14,
   "id": "ee51033e",
   "metadata": {},
   "outputs": [
    {
     "data": {
      "text/plain": [
       "(array([  17.,   80.,  289.,  718., 1150., 1228.,  904.,  436.,  146.,\n",
       "          32.]),\n",
       " array([144.25839539, 148.58801743, 152.91763947, 157.2472615 ,\n",
       "        161.57688354, 165.90650558, 170.23612761, 174.56574965,\n",
       "        178.89537169, 183.22499372, 187.55461576]),\n",
       " <BarContainer object of 10 artists>)"
      ]
     },
     "execution_count": 14,
     "metadata": {},
     "output_type": "execute_result"
    },
    {
     "data": {
      "image/png": "[encoded data removed]",
      "text/plain": [
       "<Figure size 432x288 with 1 Axes>"
      ]
     },
     "metadata": {
      "needs_background": "light"
     },
     "output_type": "display_data"
    }
   ],
   "source": [
    "plt.hist(row_norm_gu1)"
   ]
  },
  {
   "cell_type": "markdown",
   "id": "21e72bce",
   "metadata": {},
   "source": [
    "## 25/75"
   ]
  },
  {
   "cell_type": "code",
   "execution_count": 15,
   "id": "e72b8191",
   "metadata": {},
   "outputs": [],
   "source": [
    "# generate system\n",
    "A1 = np.random.rand(1250,500)\n",
    "A2 = np.random.uniform(low = 0, high = 1, size  = (3750,500))\n",
    "A = np.concatenate((A1, A2))\n",
    "x = np.ones(500)\n",
    "y = A @ x"
   ]
  },
  {
   "cell_type": "code",
   "execution_count": 16,
   "id": "929812e0",
   "metadata": {},
   "outputs": [],
   "source": [
    "# Find the minimum singular value\n",
    "U,S,V = np.linalg.svd(A)\n",
    "S2_min = min(S**2)\n",
    "# Find the max angle\n",
    "angles_gu2 = compute_sin2(A)\n",
    "# Find the row norm\n",
    "row_norm_gu2 = np.sum(np.abs(A)**2,axis=-1)"
   ]
  },
  {
   "cell_type": "code",
   "execution_count": 17,
   "id": "4d1ae347",
   "metadata": {},
   "outputs": [
    {
     "data": {
      "text/plain": [
       "(array([2.120000e+02, 1.384700e+04, 2.697510e+05, 1.808151e+06,\n",
       "        4.441534e+06, 4.176515e+06, 1.546924e+06, 2.270740e+05,\n",
       "        1.318500e+04, 3.070000e+02]),\n",
       " array([0.33030834, 0.35198546, 0.37366258, 0.3953397 , 0.41701682,\n",
       "        0.43869394, 0.46037106, 0.48204818, 0.5037253 , 0.52540242,\n",
       "        0.54707954]),\n",
       " <BarContainer object of 10 artists>)"
      ]
     },
     "execution_count": 17,
     "metadata": {},
     "output_type": "execute_result"
    },
    {
     "data": {
      "image/png": "[encoded data removed]",
      "text/plain": [
       "<Figure size 432x288 with 1 Axes>"
      ]
     },
     "metadata": {
      "needs_background": "light"
     },
     "output_type": "display_data"
    }
   ],
   "source": [
    "plt.hist(angles_gu2)"
   ]
  },
  {
   "cell_type": "code",
   "execution_count": 18,
   "id": "36fde92d",
   "metadata": {},
   "outputs": [
    {
     "data": {
      "text/plain": [
       "(array([1.500e+01, 1.200e+02, 4.630e+02, 1.064e+03, 1.501e+03, 1.159e+03,\n",
       "        5.080e+02, 1.390e+02, 3.000e+01, 1.000e+00]),\n",
       " array([143.53844862, 148.57832054, 153.61819246, 158.65806439,\n",
       "        163.69793631, 168.73780823, 173.77768015, 178.81755207,\n",
       "        183.857424  , 188.89729592, 193.93716784]),\n",
       " <BarContainer object of 10 artists>)"
      ]
     },
     "execution_count": 18,
     "metadata": {},
     "output_type": "execute_result"
    },
    {
     "data": {
      "image/png": "[encoded data removed]",
      "text/plain": [
       "<Figure size 432x288 with 1 Axes>"
      ]
     },
     "metadata": {
      "needs_background": "light"
     },
     "output_type": "display_data"
    }
   ],
   "source": [
    "plt.hist(row_norm_gu2)"
   ]
  },
  {
   "cell_type": "markdown",
   "id": "ea41865e",
   "metadata": {},
   "source": [
    "## 75/25"
   ]
  },
  {
   "cell_type": "code",
   "execution_count": 19,
   "id": "322fa520",
   "metadata": {},
   "outputs": [],
   "source": [
    "# generate system\n",
    "A1 = np.random.rand(3750,500)\n",
    "A2 = np.random.uniform(low = 0, high = 1, size  = (1250,500))\n",
    "A = np.concatenate((A1, A2))\n",
    "x = np.ones(500)\n",
    "y = A @ x"
   ]
  },
  {
   "cell_type": "code",
   "execution_count": 20,
   "id": "b0243637",
   "metadata": {},
   "outputs": [],
   "source": [
    "# Find the minimum singular value\n",
    "U,S,V = np.linalg.svd(A)\n",
    "S2_min = min(S**2)\n",
    "# Find the max angle\n",
    "angles_gu3 = compute_sin2(A)\n",
    "# Find the row norm\n",
    "row_norm_gu3 = np.sum(np.abs(A)**2,axis=-1)"
   ]
  },
  {
   "cell_type": "code",
   "execution_count": 21,
   "id": "e3527dbb",
   "metadata": {},
   "outputs": [
    {
     "data": {
      "text/plain": [
       "(array([2.550000e+02, 1.693000e+04, 3.245450e+05, 2.060630e+06,\n",
       "        4.678135e+06, 3.961464e+06, 1.285172e+06, 1.621560e+05,\n",
       "        8.073000e+03, 1.400000e+02]),\n",
       " array([0.33070743, 0.35265174, 0.37459606, 0.39654037, 0.41848468,\n",
       "        0.440429  , 0.46237331, 0.48431762, 0.50626193, 0.52820625,\n",
       "        0.55015056]),\n",
       " <BarContainer object of 10 artists>)"
      ]
     },
     "execution_count": 21,
     "metadata": {},
     "output_type": "execute_result"
    },
    {
     "data": {
      "image/png": "[encoded data removed]",
      "text/plain": [
       "<Figure size 432x288 with 1 Axes>"
      ]
     },
     "metadata": {
      "needs_background": "light"
     },
     "output_type": "display_data"
    }
   ],
   "source": [
    "plt.hist(angles_gu3)"
   ]
  },
  {
   "cell_type": "code",
   "execution_count": 22,
   "id": "dc3d76f9",
   "metadata": {},
   "outputs": [
    {
     "data": {
      "text/plain": [
       "(array([  14.,   72.,  369.,  969., 1399., 1260.,  662.,  213.,   35.,\n",
       "           7.]),\n",
       " array([142.68277694, 147.68804319, 152.69330943, 157.69857568,\n",
       "        162.70384193, 167.70910818, 172.71437442, 177.71964067,\n",
       "        182.72490692, 187.73017317, 192.73543941]),\n",
       " <BarContainer object of 10 artists>)"
      ]
     },
     "execution_count": 22,
     "metadata": {},
     "output_type": "execute_result"
    },
    {
     "data": {
      "image/png": "[encoded data removed]",
      "text/plain": [
       "<Figure size 432x288 with 1 Axes>"
      ]
     },
     "metadata": {
      "needs_background": "light"
     },
     "output_type": "display_data"
    }
   ],
   "source": [
    "plt.hist(row_norm_gu3)"
   ]
  },
  {
   "cell_type": "markdown",
   "id": "7b7a18fe",
   "metadata": {},
   "source": [
    "# 2 Highly Correlated Systems"
   ]
  },
  {
   "cell_type": "code",
   "execution_count": 23,
   "id": "2ac3cad0",
   "metadata": {},
   "outputs": [],
   "source": [
    "# generate system\n",
    "# Step 1: generate two gaussian linear system\n",
    "A = np.random.randn(2,500)\n",
    "A1 = np.reshape(A[0,:], (1, 500))\n",
    "A2 = np.reshape(A[1,:], (1, 500))\n",
    "# Step 2: generate correalted systems\n",
    "U = np.random.uniform(low = 0, high = 1, size  = (2500,500))\n",
    "A1 =  np.tile(A1, (2500, 1)) +  U\n",
    "A2 =  np.tile(A2, (2500, 1)) +  U\n",
    "# Step 3: Combine two correlated systems\n",
    "A = np.concatenate((A1, A2))\n",
    "x = np.ones(500)\n",
    "y = A @ x"
   ]
  },
  {
   "cell_type": "code",
   "execution_count": 24,
   "id": "426e7deb",
   "metadata": {},
   "outputs": [],
   "source": [
    "# Find the minimum singular value\n",
    "U,S,V = np.linalg.svd(A)\n",
    "S2_min = min(S**2)\n",
    "# Find the max angle\n",
    "angles_corr = compute_sin2(A)\n",
    "# Find the row norm\n",
    "row_norm_corr = np.sum(np.abs(A)**2,axis=-1)"
   ]
  },
  {
   "cell_type": "code",
   "execution_count": 25,
   "id": "03f488c0",
   "metadata": {},
   "outputs": [
    {
     "data": {
      "text/plain": [
       "(array([6.247500e+06, 0.000000e+00, 0.000000e+00, 0.000000e+00,\n",
       "        0.000000e+00, 0.000000e+00, 0.000000e+00, 0.000000e+00,\n",
       "        5.200000e+01, 6.249948e+06]),\n",
       " array([0.09125416, 0.17848359, 0.26571302, 0.35294246, 0.44017189,\n",
       "        0.52740132, 0.61463076, 0.70186019, 0.78908962, 0.87631906,\n",
       "        0.96354849]),\n",
       " <BarContainer object of 10 artists>)"
      ]
     },
     "execution_count": 25,
     "metadata": {},
     "output_type": "execute_result"
    },
    {
     "data": {
      "image/png": "[encoded data removed]",
      "text/plain": [
       "<Figure size 432x288 with 1 Axes>"
      ]
     },
     "metadata": {
      "needs_background": "light"
     },
     "output_type": "display_data"
    }
   ],
   "source": [
    "plt.hist(angles_corr)"
   ]
  },
  {
   "cell_type": "code",
   "execution_count": 26,
   "id": "c57796b3",
   "metadata": {},
   "outputs": [
    {
     "data": {
      "text/plain": [
       "(array([   3.,   36.,  235.,  642., 1212., 1352.,  961.,  425.,  117.,\n",
       "          17.]),\n",
       " array([603.53514077, 614.79771695, 626.06029312, 637.32286929,\n",
       "        648.58544547, 659.84802164, 671.11059781, 682.37317399,\n",
       "        693.63575016, 704.89832633, 716.16090251]),\n",
       " <BarContainer object of 10 artists>)"
      ]
     },
     "execution_count": 26,
     "metadata": {},
     "output_type": "execute_result"
    },
    {
     "data": {
      "image/png": "[encoded data removed]",
      "text/plain": [
       "<Figure size 432x288 with 1 Axes>"
      ]
     },
     "metadata": {
      "needs_background": "light"
     },
     "output_type": "display_data"
    }
   ],
   "source": [
    "plt.hist(row_norm_corr)"
   ]
  },
  {
   "cell_type": "markdown",
   "id": "8ebd1d90",
   "metadata": {},
   "source": [
    "# Results"
   ]
  },
  {
   "cell_type": "code",
   "execution_count": 27,
   "id": "4d213491",
   "metadata": {},
   "outputs": [
    {
     "data": {
      "text/plain": [
       "<matplotlib.legend.Legend at 0x7fa820aff820>"
      ]
     },
     "execution_count": 27,
     "metadata": {},
     "output_type": "execute_result"
    },
    {
     "data": {
      "image/png": "[encoded data removed]",
      "text/plain": [
       "<Figure size 432x288 with 1 Axes>"
      ]
     },
     "metadata": {
      "needs_background": "light"
     },
     "output_type": "display_data"
    }
   ],
   "source": [
    "plt.hist(row_norm_g, label = \"Gaussian\",  alpha = 0.5, edgecolor = \"black\")\n",
    "plt.hist(row_norm_u, label = \"Uniform\", alpha = 0.5, edgecolor = \"black\")\n",
    "plt.hist(row_norm_gu1, label = \"50/50 Gaussian-Uniform\", alpha = 0.5, edgecolor = \"black\")\n",
    "plt.hist(row_norm_gu2, label = \"25/75 Gaussian-Uniform\", alpha = 0.5, edgecolor = \"black\")\n",
    "plt.hist(row_norm_gu3, label = \"75/25 Gaussian-Uniform\", alpha = 0.5, edgecolor = \"black\")\n",
    "plt.hist(row_norm_corr, label = \"2 Correlated Systems\", alpha = 0.5, edgecolor = \"black\")\n",
    "plt.ylabel('Count', fontsize = 10)\n",
    "plt.xlabel('$||a_i||^2$', fontsize = 10)\n",
    "plt.title('Distribution of $||a_i||^2$', fontweight=\"bold\")\n",
    "plt.legend()"
   ]
  },
  {
   "cell_type": "code",
   "execution_count": 40,
   "id": "c26d30fb",
   "metadata": {},
   "outputs": [
    {
     "data": {
      "text/plain": [
       "<matplotlib.legend.Legend at 0x7fa82125e4c0>"
      ]
     },
     "execution_count": 40,
     "metadata": {},
     "output_type": "execute_result"
    },
    {
     "data": {
      "image/png": "[encoded data removed]",
      "text/plain": [
       "<Figure size 432x288 with 1 Axes>"
      ]
     },
     "metadata": {
      "needs_background": "light"
     },
     "output_type": "display_data"
    }
   ],
   "source": [
    "plt.hist(angles_g, label = \"Gaussian\",  alpha = 0.5, edgecolor = \"black\")\n",
    "plt.hist(angles_u, label = \"Uniform\", alpha = 0.5, edgecolor = \"black\")\n",
    "plt.hist(angles_gu1, label = \"50/50 Gaussian-Uniform\", alpha = 0.5, edgecolor = \"black\")\n",
    "plt.hist(angles_gu2, label = \"25/75 Gaussian-Uniform\", alpha = 0.5, edgecolor = \"black\")\n",
    "plt.hist(angles_gu3, label = \"75/25 Gaussian-Uniform\", alpha = 0.5, edgecolor = \"black\")\n",
    "plt.hist(angles_corr, label = \"2 Correlated Systems\", alpha = 0.5, edgecolor = \"black\")\n",
    "plt.ylabel('Count', fontsize = 10)\n",
    "plt.xlabel('$\\sin^2\\Theta$', fontsize = 10)\n",
    "plt.title('Distribution of $\\sin^2\\Theta$', fontweight=\"bold\")\n",
    "plt.legend()"
   ]
  }
 ],
 "metadata": {
  "kernelspec": {
   "display_name": "Python 3 (ipykernel)",
   "language": "python",
   "name": "python3"
  },
  "language_info": {
   "codemirror_mode": {
    "name": "ipython",
    "version": 3
   },
   "file_extension": ".py",
   "mimetype": "text/x-python",
   "name": "python",
   "nbconvert_exporter": "python",
   "pygments_lexer": "ipython3",
   "version": "3.11.4"
  }
 },
 "nbformat": 4,
 "nbformat_minor": 5
}
