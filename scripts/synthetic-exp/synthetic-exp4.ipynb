{
 "cells": [
  {
   "cell_type": "markdown",
   "id": "6ee7c60d",
   "metadata": {},
   "source": [
    "# GKO Synthetic Experiment\n",
    "\n",
    "In this experiment, we are testing the performance of following methods: GK, GKO, and MWRKO. Iteration and CPU are measured for different types of system including the following:\n",
    "\n",
    "* System with two set of correlated systems"
   ]
  },
  {
   "cell_type": "code",
   "execution_count": 1,
   "id": "38a4dace",
   "metadata": {},
   "outputs": [],
   "source": [
    "# Load libraries\n",
    "import pandas as pd\n",
    "import numpy as np\n",
    "from time import process_time\n",
    "import matplotlib.pyplot as plt\n",
    "from matplotlib.lines import Line2D\n",
    "import random\n",
    "import math\n",
    "from numpy.random import default_rng\n",
    "from sklearn.preprocessing import normalize"
   ]
  },
  {
   "cell_type": "code",
   "execution_count": 2,
   "id": "198bc00a",
   "metadata": {},
   "outputs": [],
   "source": [
    "# importing algorithm functions\n",
    "import sys\n",
    "sys.path.insert(1, '/Users/jennytran/Documents/GitHub/gko-23/scripts/functions')\n",
    "from method import method"
   ]
  },
  {
   "cell_type": "markdown",
   "id": "0bebac73",
   "metadata": {},
   "source": [
    "### Generate System"
   ]
  },
  {
   "cell_type": "code",
   "execution_count": 4,
   "id": "26ad8eed",
   "metadata": {},
   "outputs": [],
   "source": [
    "# Generate system\n",
    "# Step 1: generate two gaussian linear system\n",
    "A = np.random.randn(2,500)\n",
    "A1 = np.reshape(A[0,:], (1, 500))\n",
    "A2 = np.reshape(A[1,:], (1, 500))"
   ]
  },
  {
   "cell_type": "code",
   "execution_count": 5,
   "id": "69da517c",
   "metadata": {},
   "outputs": [],
   "source": [
    "# Step 2: generate correalted systems\n",
    "U = np.random.rand(2500, 500)\n",
    "#np.random.uniform(low = 0, high = 1, size  = (2500,500))\n",
    "A1 =  np.tile(A1, (2500, 1)) +  U\n",
    "A2 =  np.tile(A2, (2500, 1)) +  U"
   ]
  },
  {
   "cell_type": "code",
   "execution_count": 6,
   "id": "aaffcb0a",
   "metadata": {},
   "outputs": [],
   "source": [
    "# Step 3: Combine two correlated systems\n",
    "A = np.concatenate((A1, A2))\n",
    "x = np.ones(500)\n",
    "y = A @ x"
   ]
  },
  {
   "cell_type": "markdown",
   "id": "9a11d8c2",
   "metadata": {},
   "source": [
    "### Run Experiments"
   ]
  },
  {
   "cell_type": "code",
   "execution_count": 15,
   "id": "11da1757",
   "metadata": {},
   "outputs": [],
   "source": [
    "# gk\n",
    "gk_start_cyclic_corr = process_time()\n",
    "gk_corr = method(A,x,y,'GK', 0.5*10**-8)\n",
    "gk_stop_cyclic_corr = process_time()\n",
    "# gko\n",
    "gko_start_cyclic_corr = process_time()\n",
    "gko_corr = method(A,x,y,'GKO', 0.5*10**-8)\n",
    "gko_stop_cyclic_corr = process_time()\n",
    "# mwrko\n",
    "mwrko_start_cyclic_corr = process_time()\n",
    "mwrko_corr = method(A,x,y,'MWRKO', 0.5*10**-8)\n",
    "mwrko_stop_cyclic_corr = process_time()"
   ]
  },
  {
   "cell_type": "code",
   "execution_count": 16,
   "id": "e72ab6f9",
   "metadata": {},
   "outputs": [
    {
     "name": "stdout",
     "output_type": "stream",
     "text": [
      "Unexpected exception formatting exception. Falling back to standard exception\n"
     ]
    },
    {
     "name": "stderr",
     "output_type": "stream",
     "text": [
      "Traceback (most recent call last):\n",
      "  File \"/Users/jennytran/anaconda3/lib/python3.11/site-packages/IPython/core/interactiveshell.py\", line 3505, in run_code\n",
      "    exec(code_obj, self.user_global_ns, self.user_ns)\n",
      "  File \"/var/folders/sz/ykx3_8y53zl6b7g3dz2xmjbr0000gn/T/ipykernel_58544/698701531.py\", line -1, in <module>\n",
      "KeyboardInterrupt\n",
      "\n",
      "During handling of the above exception, another exception occurred:\n",
      "\n",
      "Traceback (most recent call last):\n",
      "  File \"/Users/jennytran/anaconda3/lib/python3.11/site-packages/IPython/core/interactiveshell.py\", line 2102, in showtraceback\n",
      "    stb = self.InteractiveTB.structured_traceback(\n",
      "          ^^^^^^^^^^^^^^^^^^^^^^^^^^^^^^^^^^^^^^^^\n",
      "  File \"/Users/jennytran/anaconda3/lib/python3.11/site-packages/IPython/core/ultratb.py\", line 1310, in structured_traceback\n",
      "    return FormattedTB.structured_traceback(\n",
      "           ^^^^^^^^^^^^^^^^^^^^^^^^^^^^^^^^^\n",
      "  File \"/Users/jennytran/anaconda3/lib/python3.11/site-packages/IPython/core/ultratb.py\", line 1199, in structured_traceback\n",
      "    return VerboseTB.structured_traceback(\n",
      "           ^^^^^^^^^^^^^^^^^^^^^^^^^^^^^^^\n",
      "  File \"/Users/jennytran/anaconda3/lib/python3.11/site-packages/IPython/core/ultratb.py\", line 1052, in structured_traceback\n",
      "    formatted_exception = self.format_exception_as_a_whole(etype, evalue, etb, number_of_lines_of_context,\n",
      "                          ^^^^^^^^^^^^^^^^^^^^^^^^^^^^^^^^^^^^^^^^^^^^^^^^^^^^^^^^^^^^^^^^^^^^^^^^^^^^^^^^\n",
      "  File \"/Users/jennytran/anaconda3/lib/python3.11/site-packages/IPython/core/ultratb.py\", line 978, in format_exception_as_a_whole\n",
      "    frames.append(self.format_record(record))\n",
      "                  ^^^^^^^^^^^^^^^^^^^^^^^^^^\n",
      "  File \"/Users/jennytran/anaconda3/lib/python3.11/site-packages/IPython/core/ultratb.py\", line 878, in format_record\n",
      "    frame_info.lines, Colors, self.has_colors, lvals\n",
      "    ^^^^^^^^^^^^^^^^\n",
      "  File \"/Users/jennytran/anaconda3/lib/python3.11/site-packages/IPython/core/ultratb.py\", line 712, in lines\n",
      "    return self._sd.lines\n",
      "           ^^^^^^^^^^^^^^\n",
      "  File \"/Users/jennytran/anaconda3/lib/python3.11/site-packages/stack_data/utils.py\", line 145, in cached_property_wrapper\n",
      "    value = obj.__dict__[self.func.__name__] = self.func(obj)\n",
      "                                               ^^^^^^^^^^^^^^\n",
      "  File \"/Users/jennytran/anaconda3/lib/python3.11/site-packages/stack_data/core.py\", line 698, in lines\n",
      "    pieces = self.included_pieces\n",
      "             ^^^^^^^^^^^^^^^^^^^^\n",
      "  File \"/Users/jennytran/anaconda3/lib/python3.11/site-packages/stack_data/utils.py\", line 145, in cached_property_wrapper\n",
      "    value = obj.__dict__[self.func.__name__] = self.func(obj)\n",
      "                                               ^^^^^^^^^^^^^^\n",
      "  File \"/Users/jennytran/anaconda3/lib/python3.11/site-packages/stack_data/core.py\", line 649, in included_pieces\n",
      "    pos = scope_pieces.index(self.executing_piece)\n",
      "                             ^^^^^^^^^^^^^^^^^^^^\n",
      "  File \"/Users/jennytran/anaconda3/lib/python3.11/site-packages/stack_data/utils.py\", line 145, in cached_property_wrapper\n",
      "    value = obj.__dict__[self.func.__name__] = self.func(obj)\n",
      "                                               ^^^^^^^^^^^^^^\n",
      "  File \"/Users/jennytran/anaconda3/lib/python3.11/site-packages/stack_data/core.py\", line 628, in executing_piece\n",
      "    return only(\n",
      "           ^^^^^\n",
      "  File \"/Users/jennytran/anaconda3/lib/python3.11/site-packages/executing/executing.py\", line 164, in only\n",
      "    raise NotOneValueFound('Expected one value, found 0')\n",
      "executing.executing.NotOneValueFound: Expected one value, found 0\n"
     ]
    }
   ],
   "source": [
    "gk_proj = []\n",
    "gko_proj = []\n",
    "mwrko_proj = []\n",
    "for n in gk_corr[-1]:\n",
    "    if n in A1:\n",
    "        gk_proj.append('A1')\n",
    "    elif n in A2:\n",
    "        gk_proj.append('A2')\n",
    "\n",
    "for n in gko_corr[-1]:\n",
    "    if n in A1:\n",
    "        gko_proj.append('A1')\n",
    "    elif n in A2:\n",
    "        gko_proj.append('A2')\n",
    "\n",
    "for n in mwrko_corr[-1]:\n",
    "    if n in A1:\n",
    "        mwrko_proj.append('A1')\n",
    "    elif n in A2:\n",
    "        mwrko_proj.append('A2')"
   ]
  },
  {
   "cell_type": "code",
   "execution_count": null,
   "id": "31318712",
   "metadata": {},
   "outputs": [],
   "source": [
    "df_proj = pd.DataFrame()\n",
    "df_proj['method'] = ['GK', 'GKO', 'MWRKO']\n",
    "df_proj['IT'] = [gk_corr[0], gko_corr[0], mwrko_corr[0]]\n",
    "df_proj['A1'] = [gk_proj.count('A1'), gko_proj.count('A1'), mwrko_proj.count('A1')]\n",
    "df_proj['A2'] = [gk_proj.count('A2'), gko_proj.count('A2'), mwrko_proj.count('A2')]\n",
    "df_proj"
   ]
  },
  {
   "cell_type": "code",
   "execution_count": null,
   "id": "c7e43506",
   "metadata": {},
   "outputs": [],
   "source": [
    "df_proj = pd.DataFrame()\n",
    "#df_proj['method'] = ['GK', 'GKO', 'MWRKO']\n",
    "#df_proj['IT'] = [gk_corr[0], gko_corr[0], mwrko_corr[0]]\n",
    "df_proj['GK'] = gk_proj[:50] \n",
    "df_proj['GKO'] = gko_proj[:50]\n",
    "df_proj['MWRKO'] = mwrko_proj[:50]\n",
    "df_proj"
   ]
  },
  {
   "cell_type": "code",
   "execution_count": 17,
   "id": "ed91e32d",
   "metadata": {},
   "outputs": [
    {
     "name": "stdout",
     "output_type": "stream",
     "text": [
      "274.61333 22.746950999999854 321.7838139999999\n"
     ]
    }
   ],
   "source": [
    "# cpu data\n",
    "gk_cpu_corr = gk_stop_cyclic_corr - gk_start_cyclic_corr\n",
    "gko_cpu_corr = gko_stop_cyclic_corr - gko_start_cyclic_corr\n",
    "mwrko_cpu_corr = mwrko_stop_cyclic_corr - mwrko_start_cyclic_corr\n",
    "\n",
    "print(gk_cpu_corr, gko_cpu_corr, mwrko_cpu_corr)"
   ]
  },
  {
   "cell_type": "code",
   "execution_count": 18,
   "id": "f2d5424c",
   "metadata": {},
   "outputs": [
    {
     "data": {
      "image/png": "[encoded data removed]",
      "text/plain": [
       "<Figure size 1000x700 with 1 Axes>"
      ]
     },
     "metadata": {},
     "output_type": "display_data"
    },
    {
     "data": {
      "text/plain": [
       "<Figure size 640x480 with 0 Axes>"
      ]
     },
     "metadata": {},
     "output_type": "display_data"
    }
   ],
   "source": [
    "plt.figure(figsize=(10,7))\n",
    "\n",
    "plt.semilogy(np.arange(gk_corr[0]), gk_corr[1], \n",
    "             color = '#1E88E5', linewidth = 4, linestyle = 'solid', label = 'GK')\n",
    "plt.semilogy(np.arange(gko_corr[0]), gko_corr[1],\n",
    "            color = '#D81B60', linewidth = 4, linestyle = (0, (3, 5, 1, 5)), label = 'GKO')\n",
    "plt.semilogy(np.arange(mwrko_corr[0]), mwrko_corr[1],\n",
    "            color = '#FFC107', linewidth = 4, linestyle = 'dashed', label = 'MWRKO')\n",
    "\n",
    "plt.xlabel('IT', fontsize = 15)\n",
    "plt.ylabel('RRE', fontsize = 15)\n",
    "plt.title('Iterations vs. Relative Residual Error (Correlated Systems)', fontweight=\"bold\")\n",
    "plt.legend(fontsize=\"15\")\n",
    "plt.show()\n",
    "plt.savefig('../../outputs/synthetic-exp/5000x500/iter/5000-corr-iter.png')"
   ]
  },
  {
   "cell_type": "code",
   "execution_count": null,
   "id": "296de0c1",
   "metadata": {},
   "outputs": [],
   "source": [
    "plt.figure(figsize=(10,7))\n",
    "\n",
    "plt.semilogy(np.linspace(0,gk_cpu_corr,gk_corr[0]), gk_corr[1],\n",
    "            color = '#1E88E5', linewidth = 4, linestyle = 'solid', label = 'GK')\n",
    "plt.semilogy(np.linspace(0,gko_cpu_corr,gko_corr[0]), gko_corr[1],\n",
    "            color = '#D81B60', linewidth = 4, linestyle = (0, (3, 5, 1, 5)), label = 'GKO')\n",
    "plt.semilogy(np.linspace(0,mwrko_cpu_corr,mwrko_corr[0]), mwrko_corr[1],\n",
    "            color = '#FFC107', linewidth = 4, linestyle = 'dashed', label = 'MWRKO')\n",
    "\n",
    "plt.xlabel('CPU')\n",
    "plt.ylabel('Approximation Error')\n",
    "plt.title('CPU vs. Approximation Error (Correlated Systems)',  fontweight=\"bold\")\n",
    "plt.legend(fontsize=\"15\")\n",
    "plt.legend()\n",
    "plt.savefig('../../outputs/synthetic-exp/5000x500/iter/5000-corr-cpu.png')"
   ]
  },
  {
   "cell_type": "code",
   "execution_count": null,
   "id": "a6e0a081",
   "metadata": {},
   "outputs": [],
   "source": []
  },
  {
   "cell_type": "markdown",
   "id": "cc951621",
   "metadata": {},
   "source": [
    "## Experiment 2: Testing Different Correlated Systems\n",
    "\n",
    "We will test the performance of our methods using different lowerbounds c, which determines how correlated systems are."
   ]
  },
  {
   "cell_type": "code",
   "execution_count": 14,
   "id": "fe40aab7",
   "metadata": {},
   "outputs": [
    {
     "name": "stdout",
     "output_type": "stream",
     "text": [
      "0.1\n",
      "0.2\n"
     ]
    },
    {
     "ename": "KeyboardInterrupt",
     "evalue": "",
     "output_type": "error",
     "traceback": [
      "\u001b[0;31m---------------------------------------------------------------------------\u001b[0m",
      "\u001b[0;31mKeyboardInterrupt\u001b[0m                         Traceback (most recent call last)",
      "Cell \u001b[0;32mIn[14], line 28\u001b[0m\n\u001b[1;32m     25\u001b[0m \u001b[38;5;66;03m# Run algorithms\u001b[39;00m\n\u001b[1;32m     26\u001b[0m \u001b[38;5;66;03m# gk\u001b[39;00m\n\u001b[1;32m     27\u001b[0m gk_start_cyclic \u001b[38;5;241m=\u001b[39m process_time()\n\u001b[0;32m---> 28\u001b[0m gk_corr \u001b[38;5;241m=\u001b[39m method(A,x,y,\u001b[38;5;124m'\u001b[39m\u001b[38;5;124mGK\u001b[39m\u001b[38;5;124m'\u001b[39m, \u001b[38;5;241m0.5\u001b[39m\u001b[38;5;241m*\u001b[39m\u001b[38;5;241m10\u001b[39m\u001b[38;5;241m*\u001b[39m\u001b[38;5;241m*\u001b[39m(\u001b[38;5;241m-\u001b[39m\u001b[38;5;241m8\u001b[39m))\n\u001b[1;32m     29\u001b[0m gk_stop_cyclic \u001b[38;5;241m=\u001b[39m process_time()\n\u001b[1;32m     30\u001b[0m \u001b[38;5;66;03m# gko\u001b[39;00m\n",
      "File \u001b[0;32m~/Documents/GitHub/gko-23/scripts/functions/method.py:31\u001b[0m, in \u001b[0;36mmethod\u001b[0;34m(A, x, y, case, TOL)\u001b[0m\n\u001b[1;32m     26\u001b[0m \u001b[38;5;28;01mwhile\u001b[39;00m \u001b[38;5;28;01mTrue\u001b[39;00m:\n\u001b[1;32m     27\u001b[0m     rhat \u001b[38;5;241m=\u001b[39m A\u001b[38;5;129m@x_old\u001b[39m \u001b[38;5;241m-\u001b[39m y\n\u001b[1;32m     28\u001b[0m     \u001b[38;5;28;01mmatch\u001b[39;00m case:\n\u001b[1;32m     29\u001b[0m         \u001b[38;5;28;01mcase\u001b[39;00m \u001b[38;5;124m\"\u001b[39m\u001b[38;5;124mGK\u001b[39m\u001b[38;5;124m\"\u001b[39m:\n\u001b[1;32m     30\u001b[0m             r \u001b[38;5;241m=\u001b[39m (rhat)\u001b[38;5;241m*\u001b[39m\u001b[38;5;241m*\u001b[39m\u001b[38;5;241m2\u001b[39m\n\u001b[0;32m---> 31\u001b[0m             i \u001b[38;5;241m=\u001b[39m np\u001b[38;5;241m.\u001b[39margmax(r)\n\u001b[1;32m     32\u001b[0m             ai \u001b[38;5;241m=\u001b[39m A[i,:]\n\u001b[1;32m     33\u001b[0m             xk \u001b[38;5;241m=\u001b[39m x_old \u001b[38;5;241m-\u001b[39m ((np\u001b[38;5;241m.\u001b[39mtranspose(ai)\u001b[38;5;129m@x_old\u001b[39m \u001b[38;5;241m-\u001b[39m y[i]) \u001b[38;5;241m/\u001b[39m  np\u001b[38;5;241m.\u001b[39mlinalg\u001b[38;5;241m.\u001b[39mnorm(ai)\u001b[38;5;241m*\u001b[39m\u001b[38;5;241m*\u001b[39m\u001b[38;5;241m2\u001b[39m \u001b[38;5;241m*\u001b[39m ai)\n\u001b[1;32m     34\u001b[0m         \u001b[38;5;28;01mcase\u001b[39;00m \u001b[38;5;124m\"\u001b[39m\u001b[38;5;124mGKO\u001b[39m\u001b[38;5;124m\"\u001b[39m:\n\u001b[1;32m     35\u001b[0m             inner_dig \u001b[38;5;241m=\u001b[39m np\u001b[38;5;241m.\u001b[39mdelete(inner_p\u001b[38;5;241m.\u001b[39mdiagonal(), ik)\n\u001b[1;32m     36\u001b[0m             all_comb \u001b[38;5;241m=\u001b[39m np\u001b[38;5;241m.\u001b[39mdelete(inner_p[:,ik], ik)\n\u001b[1;32m     37\u001b[0m             denom \u001b[38;5;241m=\u001b[39m inner_dig \u001b[38;5;241m-\u001b[39m np\u001b[38;5;241m.\u001b[39msquare(all_comb) \u001b[38;5;241m/\u001b[39m np\u001b[38;5;241m.\u001b[39mlinalg\u001b[38;5;241m.\u001b[39mnorm(A[ik,:])\u001b[38;5;241m*\u001b[39m\u001b[38;5;241m*\u001b[39m\u001b[38;5;241m2\u001b[39m\n\u001b[1;32m     38\u001b[0m             resid  \u001b[38;5;241m=\u001b[39m np\u001b[38;5;241m.\u001b[39mdelete(\u001b[38;5;28mabs\u001b[39m(rhat), ik)\n\u001b[1;32m     39\u001b[0m             i_k1 \u001b[38;5;241m=\u001b[39m np\u001b[38;5;241m.\u001b[39margmax(resid\u001b[38;5;241m/\u001b[39mnp\u001b[38;5;241m.\u001b[39msqrt(denom))\n\u001b[1;32m     40\u001b[0m             \u001b[38;5;28;01mif\u001b[39;00m (i_k1 \u001b[38;5;241m>\u001b[39m\u001b[38;5;241m=\u001b[39m ik):\n\u001b[1;32m     41\u001b[0m               i_k1 \u001b[38;5;241m+\u001b[39m\u001b[38;5;241m=\u001b[39m \u001b[38;5;241m1\u001b[39m\n\u001b[1;32m     42\u001b[0m             row_lst\u001b[38;5;241m.\u001b[39mappend(i_k1)\n\u001b[1;32m     43\u001b[0m             r \u001b[38;5;241m=\u001b[39m A[i_k1,:]\u001b[38;5;129m@x_old\u001b[39m \u001b[38;5;241m-\u001b[39m y[i_k1]\n\u001b[1;32m     44\u001b[0m             w \u001b[38;5;241m=\u001b[39m A[i_k1,:] \u001b[38;5;241m-\u001b[39m ((inner_p[ik, i_k1] \u001b[38;5;241m/\u001b[39m np\u001b[38;5;241m.\u001b[39mlinalg\u001b[38;5;241m.\u001b[39mnorm( A[ik,:])\u001b[38;5;241m*\u001b[39m\u001b[38;5;241m*\u001b[39m\u001b[38;5;241m2\u001b[39m) \u001b[38;5;241m*\u001b[39m A[ik,:])\n\u001b[1;32m     45\u001b[0m             t \u001b[38;5;241m=\u001b[39m r \u001b[38;5;241m/\u001b[39m np\u001b[38;5;241m.\u001b[39mlinalg\u001b[38;5;241m.\u001b[39mnorm(w)\u001b[38;5;241m*\u001b[39m\u001b[38;5;241m*\u001b[39m\u001b[38;5;241m2\u001b[39m\n\u001b[1;32m     46\u001b[0m             xk \u001b[38;5;241m=\u001b[39m x_old \u001b[38;5;241m-\u001b[39m t\u001b[38;5;241m*\u001b[39mw\n\u001b[1;32m     47\u001b[0m         \u001b[38;5;28;01mcase\u001b[39;00m \u001b[38;5;124m\"\u001b[39m\u001b[38;5;124mMWRKO\u001b[39m\u001b[38;5;124m\"\u001b[39m:\n\u001b[1;32m     48\u001b[0m             resid \u001b[38;5;241m=\u001b[39m \u001b[38;5;28mabs\u001b[39m(rhat)\n\u001b[1;32m     49\u001b[0m             i_k1 \u001b[38;5;241m=\u001b[39m np\u001b[38;5;241m.\u001b[39margmax(resid\u001b[38;5;241m/\u001b[39mdenom)\n\u001b[1;32m     50\u001b[0m             row_lst\u001b[38;5;241m.\u001b[39mappend(i_k1)\n\u001b[1;32m     51\u001b[0m             r \u001b[38;5;241m=\u001b[39m A[i_k1,:]\u001b[38;5;129m@x_old\u001b[39m \u001b[38;5;241m-\u001b[39m y[i_k1]\n\u001b[1;32m     52\u001b[0m             w \u001b[38;5;241m=\u001b[39m A[i_k1,:] \u001b[38;5;241m-\u001b[39m ((inner_p[ik, i_k1] \u001b[38;5;241m/\u001b[39m np\u001b[38;5;241m.\u001b[39mlinalg\u001b[38;5;241m.\u001b[39mnorm( A[ik,:])\u001b[38;5;241m*\u001b[39m\u001b[38;5;241m*\u001b[39m\u001b[38;5;241m2\u001b[39m) \u001b[38;5;241m*\u001b[39m A[ik,:])\n\u001b[1;32m     53\u001b[0m             t \u001b[38;5;241m=\u001b[39m r \u001b[38;5;241m/\u001b[39m np\u001b[38;5;241m.\u001b[39mlinalg\u001b[38;5;241m.\u001b[39mnorm(w)\u001b[38;5;241m*\u001b[39m\u001b[38;5;241m*\u001b[39m\u001b[38;5;241m2\u001b[39m\n\u001b[1;32m     54\u001b[0m             xk \u001b[38;5;241m=\u001b[39m x_old \u001b[38;5;241m-\u001b[39m t\u001b[38;5;241m*\u001b[39mw \n\u001b[1;32m     56\u001b[0m     x_old \u001b[38;5;241m=\u001b[39m xk\n\u001b[1;32m     57\u001b[0m     ar \u001b[38;5;241m=\u001b[39m (np\u001b[38;5;241m.\u001b[39mlinalg\u001b[38;5;241m.\u001b[39mnorm(x_old\u001b[38;5;241m-\u001b[39mx))\u001b[38;5;241m*\u001b[39m\u001b[38;5;241m*\u001b[39m\u001b[38;5;241m2\u001b[39m\n",
      "File \u001b[0;32m<__array_function__ internals>:177\u001b[0m, in \u001b[0;36margmax\u001b[0;34m(*args, **kwargs)\u001b[0m\n",
      "\u001b[0;31mKeyboardInterrupt\u001b[0m: "
     ]
    }
   ],
   "source": [
    "c = [ 0.1, 0.2, 0.3, 0.4, 0.5, 0.6, 0.7, 0.8, 0.9, 1.0 ]\n",
    "gk_iter = []\n",
    "gko_iter = []\n",
    "mwrko_iter = []\n",
    "gk_cpulst = []\n",
    "gko_cpulst = []\n",
    "mwrko_cpulst = []\n",
    "\n",
    "for bd in c:\n",
    "    print(bd)\n",
    "    # Generate system\n",
    "    # Step 1: generate two gaussian linear system\n",
    "    A = np.random.randn(2,500)\n",
    "    A1 = np.reshape(A[0,:], (1, 500))\n",
    "    A2 = np.reshape(A[1,:], (1, 500))\n",
    "    # Step 2: generate correalted systems\n",
    "    U = np.random.uniform(low = -bd, high = bd, size  = (2500,500))\n",
    "    A1 = np.tile(A1, (2500, 1)) + U\n",
    "    A2 = np.tile(A2, (2500, 1)) + U\n",
    "    # Step 3: Combine two correlated systems\n",
    "    A = np.concatenate((A1, A2))\n",
    "    x = np.ones(500)\n",
    "    y = A @ x\n",
    "    \n",
    "    # Run algorithms\n",
    "    # gk\n",
    "    gk_start_cyclic = process_time()\n",
    "    gk_corr = method(A,x,y,'GK', 0.5*10**(-8))\n",
    "    gk_stop_cyclic = process_time()\n",
    "    # gko\n",
    "    gko_start_cyclic = process_time()\n",
    "    gko_corr = method(A,x,y,'GKO', 0.5*10**(-8))\n",
    "    gko_stop_cyclic = process_time()\n",
    "    # mwrko\n",
    "    mwrko_start_cyclic = process_time()\n",
    "    mwrko_corr = method(A,x,y,'MWRKO', 0.5*10**(-8))\n",
    "    mwrko_stop_cyclic = process_time()\n",
    "    \n",
    "    # cpu data\n",
    "    gk_cpu = gk_stop_cyclic - gk_start_cyclic\n",
    "    gko_cpu = gko_stop_cyclic - gko_start_cyclic\n",
    "    mwrko_cpu = mwrko_stop_cyclic - mwrko_start_cyclic\n",
    "    \n",
    "    #append\n",
    "    gk_iter.append(gk_corr[0])\n",
    "    gko_iter.append(gko_corr[0])\n",
    "    mwrko_iter.append(mwrko_corr[0])\n",
    "    gk_cpulst.append(gk_cpu)\n",
    "    gko_cpulst.append(gko_cpu)\n",
    "    mwrko_cpulst.append(mwrko_cpu)"
   ]
  },
  {
   "cell_type": "code",
   "execution_count": null,
   "id": "4891d66e",
   "metadata": {},
   "outputs": [],
   "source": [
    "df_iter = pd.DataFrame()\n",
    "df_iter['c'] = c\n",
    "df_iter['GK'] = gk_iter\n",
    "df_iter['GKO'] = gko_iter\n",
    "df_iter['MWRKO'] = mwrko_iter\n",
    "df_iter"
   ]
  },
  {
   "cell_type": "code",
   "execution_count": null,
   "id": "0f497064",
   "metadata": {},
   "outputs": [],
   "source": [
    "df_cpu = pd.DataFrame()\n",
    "df_cpu['c'] = c\n",
    "df_cpu['GK'] = gk_cpulst\n",
    "df_cpu['GKO'] = gko_cpulst\n",
    "df_cpu['MWRKO'] = mwrko_cpulst\n",
    "df_cpu"
   ]
  },
  {
   "cell_type": "code",
   "execution_count": null,
   "id": "0c040b66",
   "metadata": {},
   "outputs": [],
   "source": []
  }
 ],
 "metadata": {
  "kernelspec": {
   "display_name": "Python 3 (ipykernel)",
   "language": "python",
   "name": "python3"
  },
  "language_info": {
   "codemirror_mode": {
    "name": "ipython",
    "version": 3
   },
   "file_extension": ".py",
   "mimetype": "text/x-python",
   "name": "python",
   "nbconvert_exporter": "python",
   "pygments_lexer": "ipython3",
   "version": "3.11.3"
  }
 },
 "nbformat": 4,
 "nbformat_minor": 5
}
