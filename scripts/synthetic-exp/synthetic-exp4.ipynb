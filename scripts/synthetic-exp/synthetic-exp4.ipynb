{
 "cells": [
  {
   "cell_type": "markdown",
   "id": "6ee7c60d",
   "metadata": {},
   "source": [
    "# GKO Synthetic Experiment w/ Mixed Models\n",
    "\n",
    "In this experiment, we are testing the performance of following methods: GK, GKO, and MWRKO. Iteration and CPU are measured for different types of system including the following:\n",
    "\n",
    "* System with two set of correlated systems"
   ]
  },
  {
   "cell_type": "code",
   "execution_count": 1,
   "id": "38a4dace",
   "metadata": {},
   "outputs": [],
   "source": [
    "# Load libraries\n",
    "import pandas as pd\n",
    "import numpy as np\n",
    "from time import process_time\n",
    "import matplotlib.pyplot as plt\n",
    "from matplotlib.lines import Line2D\n",
    "import random\n",
    "import math\n",
    "from numpy.random import default_rng\n",
    "from sklearn.preprocessing import normalize"
   ]
  },
  {
   "cell_type": "code",
   "execution_count": 2,
   "id": "bf36029b",
   "metadata": {},
   "outputs": [
    {
     "ename": "ModuleNotFoundError",
     "evalue": "No module named 'method'",
     "output_type": "error",
     "traceback": [
      "\u001b[0;31m---------------------------------------------------------------------------\u001b[0m",
      "\u001b[0;31mModuleNotFoundError\u001b[0m                       Traceback (most recent call last)",
      "\u001b[0;32m<ipython-input-2-3528b07fbbfe>\u001b[0m in \u001b[0;36m<module>\u001b[0;34m\u001b[0m\n\u001b[1;32m      2\u001b[0m \u001b[0;32mimport\u001b[0m \u001b[0msys\u001b[0m\u001b[0;34m\u001b[0m\u001b[0;34m\u001b[0m\u001b[0m\n\u001b[1;32m      3\u001b[0m \u001b[0msys\u001b[0m\u001b[0;34m.\u001b[0m\u001b[0mpath\u001b[0m\u001b[0;34m.\u001b[0m\u001b[0minsert\u001b[0m\u001b[0;34m(\u001b[0m\u001b[0;36m1\u001b[0m\u001b[0;34m,\u001b[0m \u001b[0;34m'/Users/emicervantes/Desktop/gko-23/scripts/functions/method.py'\u001b[0m\u001b[0;34m)\u001b[0m\u001b[0;34m\u001b[0m\u001b[0;34m\u001b[0m\u001b[0m\n\u001b[0;32m----> 4\u001b[0;31m \u001b[0;32mfrom\u001b[0m \u001b[0mmethod\u001b[0m \u001b[0;32mimport\u001b[0m \u001b[0mmethod\u001b[0m\u001b[0;34m\u001b[0m\u001b[0;34m\u001b[0m\u001b[0m\n\u001b[0m",
      "\u001b[0;31mModuleNotFoundError\u001b[0m: No module named 'method'"
     ]
    }
   ],
   "source": [
    "# Load function\n",
    "import sys\n",
    "sys.path.insert(1, '/Users/emicervantes/Desktop/gko-23/scripts/functions/method.py')\n",
    "from method import method"
   ]
  },
  {
   "cell_type": "markdown",
   "id": "0bebac73",
   "metadata": {},
   "source": [
    "## System 1: Two Sets of Correlated Systems\n",
    "\n",
    "### Generate System"
   ]
  },
  {
   "cell_type": "code",
   "execution_count": 10,
   "id": "26ad8eed",
   "metadata": {},
   "outputs": [],
   "source": [
    "# Generate system\n",
    "# Step 1: generate two gaussian linear system\n",
    "A = np.random.randn(2,500)\n",
    "A1 = np.reshape(A[0,:], (1, 500))\n",
    "A2 = np.reshape(A[1,:], (1, 500))"
   ]
  },
  {
   "cell_type": "code",
   "execution_count": 11,
   "id": "b257e28d",
   "metadata": {},
   "outputs": [],
   "source": [
    "# Step 2: generate correalted systems\n",
    "A1 = np.tile(A1, (2500,1)) + np.random.uniform(low = -1, high = 1, size  = (2500,500))\n",
    "A2 = np.tile(A2, (2500,1)) + np.random.uniform(low = -1, high = 1, size  = (2500,500))"
   ]
  },
  {
   "cell_type": "code",
   "execution_count": 12,
   "id": "aaffcb0a",
   "metadata": {},
   "outputs": [],
   "source": [
    "# Step 3: Combine two correlated systems\n",
    "A = np.concatenate((A1, A2))\n",
    "x = np.ones(500)\n",
    "y = A @ x"
   ]
  },
  {
   "cell_type": "markdown",
   "id": "6369742e",
   "metadata": {},
   "source": [
    "### Run Experiments"
   ]
  },
  {
   "cell_type": "code",
   "execution_count": 14,
   "id": "bfb7e7f6",
   "metadata": {},
   "outputs": [
    {
     "data": {
      "text/plain": [
       "(5000, 500)"
      ]
     },
     "execution_count": 14,
     "metadata": {},
     "output_type": "execute_result"
    }
   ],
   "source": [
    "A.shape"
   ]
  },
  {
   "cell_type": "code",
   "execution_count": null,
   "id": "40cc7ffd",
   "metadata": {},
   "outputs": [],
   "source": []
  }
 ],
 "metadata": {
  "kernelspec": {
   "display_name": "Python 3",
   "language": "python",
   "name": "python3"
  },
  "language_info": {
   "codemirror_mode": {
    "name": "ipython",
    "version": 3
   },
   "file_extension": ".py",
   "mimetype": "text/x-python",
   "name": "python",
   "nbconvert_exporter": "python",
   "pygments_lexer": "ipython3",
   "version": "3.8.8"
  }
 },
 "nbformat": 4,
 "nbformat_minor": 5
}
