{
 "cells": [
  {
   "cell_type": "markdown",
   "id": "6ee7c60d",
   "metadata": {},
   "source": [
    "# GKO Synthetic Experiment w/ Mixed Models\n",
    "\n",
    "In this experiment, we are testing the performance of following methods: GK, GKO, and MWRKO. Iteration and CPU are measured for different types of system including the following:\n",
    "\n",
    "* System with two set of correlated systems"
   ]
  },
  {
   "cell_type": "code",
   "execution_count": 1,
   "id": "38a4dace",
   "metadata": {},
   "outputs": [],
   "source": [
    "# Load libraries\n",
    "import pandas as pd\n",
    "import numpy as np\n",
    "from time import process_time\n",
    "import matplotlib.pyplot as plt\n",
    "from matplotlib.lines import Line2D\n",
    "import random\n",
    "import math\n",
    "from numpy.random import default_rng\n",
    "from sklearn.preprocessing import normalize"
   ]
  },
  {
   "cell_type": "code",
   "execution_count": 24,
   "id": "bf36029b",
   "metadata": {},
   "outputs": [
    {
     "ename": "SyntaxError",
     "evalue": "invalid syntax (method.py, line 28)",
     "output_type": "error",
     "traceback": [
      "Traceback \u001b[0;36m(most recent call last)\u001b[0m:\n",
      "  File \u001b[1;32m\"/Users/emicervantes/opt/anaconda3/lib/python3.8/site-packages/IPython/core/interactiveshell.py\"\u001b[0m, line \u001b[1;32m3437\u001b[0m, in \u001b[1;35mrun_code\u001b[0m\n    exec(code_obj, self.user_global_ns, self.user_ns)\n",
      "\u001b[0;36m  File \u001b[0;32m\"<ipython-input-24-3528b07fbbfe>\"\u001b[0;36m, line \u001b[0;32m4\u001b[0;36m, in \u001b[0;35m<module>\u001b[0;36m\u001b[0m\n\u001b[0;31m    from method import method\u001b[0m\n",
      "\u001b[0;36m  File \u001b[0;32m\"../../scripts/functions/method.py\"\u001b[0;36m, line \u001b[0;32m28\u001b[0m\n\u001b[0;31m    match case:\u001b[0m\n\u001b[0m          ^\u001b[0m\n\u001b[0;31mSyntaxError\u001b[0m\u001b[0;31m:\u001b[0m invalid syntax\n"
     ]
    }
   ],
   "source": [
    "# Load function\n",
    "import sys\n",
    "sys.path.insert(1, '/Users/emicervantes/Desktop/gko-23/scripts/functions/method.py')\n",
    "from method import method"
   ]
  },
  {
   "cell_type": "markdown",
   "id": "0bebac73",
   "metadata": {},
   "source": [
    "## System 1: Two Sets of Correlated Systems\n",
    "\n",
    "### Generate System"
   ]
  },
  {
   "cell_type": "code",
   "execution_count": 11,
   "id": "26ad8eed",
   "metadata": {},
   "outputs": [],
   "source": [
    "# Generate system\n",
    "# Step 1: generate two gaussian linear system\n",
    "A = np.random.randn(2,500)\n",
    "A1 = np.reshape(A[0,:], (1, 500))\n",
    "A2 = np.reshape(A[1,:], (1, 500))"
   ]
  },
  {
   "cell_type": "code",
   "execution_count": 12,
   "id": "69da517c",
   "metadata": {},
   "outputs": [],
   "source": [
    "# Step 2: generate correalted systems\n",
    "for i in range(2499):\n",
    "    A_new = np.random.uniform(low = -1, high = 1, size  = (1,500))\n",
    "    A1 = np.concatenate((A1, (A1[0,:] + A_new)), axis = 0)\n",
    "    A2 = np.concatenate((A2, (A2[0,:] + A_new)), axis = 0)"
   ]
  },
  {
   "cell_type": "code",
   "execution_count": 13,
   "id": "aaffcb0a",
   "metadata": {},
   "outputs": [],
   "source": [
    "# Step 3: Combine two correlated systems\n",
    "A = np.concatenate((A1, A2))\n",
    "x = np.ones(500)\n",
    "y = A @ x"
   ]
  },
  {
   "cell_type": "markdown",
   "id": "6369742e",
   "metadata": {},
   "source": [
    "### Run Experiments"
   ]
  },
  {
   "cell_type": "code",
   "execution_count": 14,
   "id": "bfb7e7f6",
   "metadata": {},
   "outputs": [
    {
     "data": {
      "text/plain": [
       "(5000, 500)"
      ]
     },
     "execution_count": 14,
     "metadata": {},
     "output_type": "execute_result"
    }
   ],
   "source": [
    "A.shape"
   ]
  }
 ],
 "metadata": {
  "kernelspec": {
   "display_name": "Python 3",
   "language": "python",
   "name": "python3"
  },
  "language_info": {
   "codemirror_mode": {
    "name": "ipython",
    "version": 3
   },
   "file_extension": ".py",
   "mimetype": "text/x-python",
   "name": "python",
   "nbconvert_exporter": "python",
   "pygments_lexer": "ipython3",
   "version": "3.8.8"
  }
 },
 "nbformat": 4,
 "nbformat_minor": 5
}
