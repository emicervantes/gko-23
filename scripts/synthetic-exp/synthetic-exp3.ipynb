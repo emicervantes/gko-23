{
 "cells": [
  {
   "cell_type": "code",
   "execution_count": 1,
   "id": "279dcb68",
   "metadata": {},
   "outputs": [],
   "source": [
    "# importing necessary libraries\n",
    "from time import process_time\n",
    "import matplotlib.pyplot as plt\n",
    "from matplotlib.lines import Line2D\n",
    "import random\n",
    "import math\n",
    "from scipy import sparse\n",
    "from scipy.sparse import random\n",
    "from scipy import stats\n",
    "from numpy.random import default_rng\n",
    "from sklearn.preprocessing import normalize\n",
    "import numpy as np\n",
    "import pandas as pd"
   ]
  },
  {
   "cell_type": "code",
   "execution_count": 2,
   "id": "63dd3453",
   "metadata": {},
   "outputs": [],
   "source": [
    "# importing algorithm functions\n",
    "import sys\n",
    "sys.path.insert(1, '/Users/jennytran/Documents/GitHub/gko-23/scripts/functions')\n",
    "from gk import gk\n",
    "from mwrko import mwrko\n",
    "from gko import gko\n",
    "from method import method"
   ]
  },
  {
   "cell_type": "markdown",
   "id": "490231db",
   "metadata": {},
   "source": [
    "### Uniform Distribution in [c,1]"
   ]
  },
  {
   "cell_type": "code",
   "execution_count": null,
   "id": "d104f513",
   "metadata": {},
   "outputs": [],
   "source": [
    "#uniform\n",
    "c_lst = [0.1, 0.2, 0.3, 0.4, 0.5, 0.6, 0.7, 0.8, 0.9]\n",
    "gk_iter = []\n",
    "gko_iter = []\n",
    "mwrko_iter = []\n",
    "gk_cpulst = []\n",
    "gko_cpulst = []\n",
    "mwrko_cpulst = []\n",
    "\n",
    "for c in c_lst:\n",
    "    print(c)\n",
    "    A = np.random.uniform(low = c, high = 1, size = (1000,500))\n",
    "    A = normalize(A, axis=1, norm='l2')\n",
    "    x = np.ones(500)\n",
    "    y = A @ x\n",
    "    \n",
    "    # gk\n",
    "    gk_start_cyclic = process_time()\n",
    "    gk_uniform = gk(A,x,y, 0.5*10**(-8))\n",
    "    gk_stop_cyclic = process_time()\n",
    "    # gko\n",
    "    gko_start_cyclic = process_time()\n",
    "    gko_uniform = gko(A,x,y, 0.5*10**(-8))\n",
    "    gko_stop_cyclic = process_time()\n",
    "    # mwrko\n",
    "    mwrko_start_cyclic = process_time()\n",
    "    mwrko_uniform = mwrko(A,x,y, 0.5*10**(-8))\n",
    "    mwrko_stop_cyclic = process_time()\n",
    "    \n",
    "    # cpu data\n",
    "    gk_cpu = gk_stop_cyclic - gk_start_cyclic\n",
    "    gko_cpu = gko_stop_cyclic - gko_start_cyclic\n",
    "    mwrko_cpu = mwrko_stop_cyclic - mwrko_start_cyclic\n",
    "    \n",
    "    #append\n",
    "    gk_iter.append(gk_uniform[0])\n",
    "    gko_iter.append(gko_uniform[0])\n",
    "    mwrko_iter.append(mwrko_uniform[0])\n",
    "    gk_cpulst.append(gk_cpu)\n",
    "    gko_cpulst.append(gko_cpu)\n",
    "    mwrko_cpulst.append(mwrko_cpu)"
   ]
  },
  {
   "cell_type": "code",
   "execution_count": null,
   "id": "5b923475",
   "metadata": {},
   "outputs": [],
   "source": [
    "df_iter = pd.DataFrame()\n",
    "df_iter['c'] = c_lst\n",
    "df_iter['GK'] = gk_iter\n",
    "df_iter['GKO'] = gko_iter\n",
    "df_iter['MWRKO'] = mwrko_iter\n",
    "df_iter"
   ]
  },
  {
   "cell_type": "code",
   "execution_count": null,
   "id": "952bccea",
   "metadata": {},
   "outputs": [],
   "source": [
    "df_cpu = pd.DataFrame()\n",
    "df_cpu['c'] = c_lst\n",
    "df_cpu['GK'] = gk_cpulst\n",
    "df_cpu['GKO'] = gko_cpulst\n",
    "df_cpu['MWRKO'] = mwrko_cpulst\n",
    "df_cpu"
   ]
  },
  {
   "cell_type": "code",
   "execution_count": null,
   "id": "de119d25",
   "metadata": {},
   "outputs": [],
   "source": []
  }
 ],
 "metadata": {
  "kernelspec": {
   "display_name": "Python 3",
   "language": "python",
   "name": "python3"
  },
  "language_info": {
   "codemirror_mode": {
    "name": "ipython",
    "version": 3
   },
   "file_extension": ".py",
   "mimetype": "text/x-python",
   "name": "python",
   "nbconvert_exporter": "python",
   "pygments_lexer": "ipython3",
   "version": "3.8.8"
  }
 },
 "nbformat": 4,
 "nbformat_minor": 5
}
